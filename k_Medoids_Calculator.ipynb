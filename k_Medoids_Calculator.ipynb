{
  "nbformat": 4,
  "nbformat_minor": 0,
  "metadata": {
    "colab": {
      "name": "k-Medoids Calculator.ipynb",
      "provenance": [],
      "authorship_tag": "ABX9TyO6qDWSKY7DYoavGGkMQGY9",
      "include_colab_link": true
    },
    "kernelspec": {
      "name": "python3",
      "display_name": "Python 3"
    },
    "language_info": {
      "name": "python"
    }
  },
  "cells": [
    {
      "cell_type": "markdown",
      "metadata": {
        "id": "view-in-github",
        "colab_type": "text"
      },
      "source": [
        "<a href=\"https://colab.research.google.com/github/cmeneses1/GeokMedoidsCalculator/blob/main/k_Medoids_Calculator.ipynb\" target=\"_parent\"><img src=\"https://colab.research.google.com/assets/colab-badge.svg\" alt=\"Open In Colab\"/></a>"
      ]
    },
    {
      "cell_type": "markdown",
      "source": [
        "# k-Medoids Calculator for geolocations\n",
        "-----------\n",
        "This calculator runs the kMedoids algorithm for locations having latitude and longitud from two different approachs: firstly, using the travel distance by car, in minutes; secondly, using the geodesical distance. After that, both series of results are plotted in a map and some mathematical constants are calculated."
      ],
      "metadata": {
        "id": "IXtI48iLpyWB"
      }
    },
    {
      "cell_type": "markdown",
      "source": [
        "## 1. Installing and importing dependencies\n",
        "Install this required package."
      ],
      "metadata": {
        "id": "VNgKHSuMSAiO"
      }
    },
    {
      "cell_type": "code",
      "source": [
        "!pip install scikit-learn-extra"
      ],
      "metadata": {
        "colab": {
          "base_uri": "https://localhost:8080/"
        },
        "id": "T4CWuB7-jYV1",
        "outputId": "3158e467-8f3c-4e26-b31c-6a4874c67857"
      },
      "execution_count": 1,
      "outputs": [
        {
          "output_type": "stream",
          "name": "stdout",
          "text": [
            "Collecting scikit-learn-extra\n",
            "  Downloading scikit_learn_extra-0.2.0-cp37-cp37m-manylinux2010_x86_64.whl (1.7 MB)\n",
            "\u001b[?25l\r\u001b[K     |▏                               | 10 kB 10.9 MB/s eta 0:00:01\r\u001b[K     |▍                               | 20 kB 15.5 MB/s eta 0:00:01\r\u001b[K     |▋                               | 30 kB 19.8 MB/s eta 0:00:01\r\u001b[K     |▊                               | 40 kB 22.3 MB/s eta 0:00:01\r\u001b[K     |█                               | 51 kB 25.2 MB/s eta 0:00:01\r\u001b[K     |█▏                              | 61 kB 12.7 MB/s eta 0:00:01\r\u001b[K     |█▍                              | 71 kB 11.9 MB/s eta 0:00:01\r\u001b[K     |█▌                              | 81 kB 12.7 MB/s eta 0:00:01\r\u001b[K     |█▊                              | 92 kB 13.9 MB/s eta 0:00:01\r\u001b[K     |██                              | 102 kB 15.1 MB/s eta 0:00:01\r\u001b[K     |██                              | 112 kB 15.1 MB/s eta 0:00:01\r\u001b[K     |██▎                             | 122 kB 15.1 MB/s eta 0:00:01\r\u001b[K     |██▌                             | 133 kB 15.1 MB/s eta 0:00:01\r\u001b[K     |██▊                             | 143 kB 15.1 MB/s eta 0:00:01\r\u001b[K     |██▉                             | 153 kB 15.1 MB/s eta 0:00:01\r\u001b[K     |███                             | 163 kB 15.1 MB/s eta 0:00:01\r\u001b[K     |███▎                            | 174 kB 15.1 MB/s eta 0:00:01\r\u001b[K     |███▌                            | 184 kB 15.1 MB/s eta 0:00:01\r\u001b[K     |███▋                            | 194 kB 15.1 MB/s eta 0:00:01\r\u001b[K     |███▉                            | 204 kB 15.1 MB/s eta 0:00:01\r\u001b[K     |████                            | 215 kB 15.1 MB/s eta 0:00:01\r\u001b[K     |████▏                           | 225 kB 15.1 MB/s eta 0:00:01\r\u001b[K     |████▍                           | 235 kB 15.1 MB/s eta 0:00:01\r\u001b[K     |████▋                           | 245 kB 15.1 MB/s eta 0:00:01\r\u001b[K     |████▉                           | 256 kB 15.1 MB/s eta 0:00:01\r\u001b[K     |█████                           | 266 kB 15.1 MB/s eta 0:00:01\r\u001b[K     |█████▏                          | 276 kB 15.1 MB/s eta 0:00:01\r\u001b[K     |█████▍                          | 286 kB 15.1 MB/s eta 0:00:01\r\u001b[K     |█████▋                          | 296 kB 15.1 MB/s eta 0:00:01\r\u001b[K     |█████▊                          | 307 kB 15.1 MB/s eta 0:00:01\r\u001b[K     |██████                          | 317 kB 15.1 MB/s eta 0:00:01\r\u001b[K     |██████▏                         | 327 kB 15.1 MB/s eta 0:00:01\r\u001b[K     |██████▎                         | 337 kB 15.1 MB/s eta 0:00:01\r\u001b[K     |██████▌                         | 348 kB 15.1 MB/s eta 0:00:01\r\u001b[K     |██████▊                         | 358 kB 15.1 MB/s eta 0:00:01\r\u001b[K     |███████                         | 368 kB 15.1 MB/s eta 0:00:01\r\u001b[K     |███████                         | 378 kB 15.1 MB/s eta 0:00:01\r\u001b[K     |███████▎                        | 389 kB 15.1 MB/s eta 0:00:01\r\u001b[K     |███████▌                        | 399 kB 15.1 MB/s eta 0:00:01\r\u001b[K     |███████▋                        | 409 kB 15.1 MB/s eta 0:00:01\r\u001b[K     |███████▉                        | 419 kB 15.1 MB/s eta 0:00:01\r\u001b[K     |████████                        | 430 kB 15.1 MB/s eta 0:00:01\r\u001b[K     |████████▎                       | 440 kB 15.1 MB/s eta 0:00:01\r\u001b[K     |████████▍                       | 450 kB 15.1 MB/s eta 0:00:01\r\u001b[K     |████████▋                       | 460 kB 15.1 MB/s eta 0:00:01\r\u001b[K     |████████▉                       | 471 kB 15.1 MB/s eta 0:00:01\r\u001b[K     |█████████                       | 481 kB 15.1 MB/s eta 0:00:01\r\u001b[K     |█████████▏                      | 491 kB 15.1 MB/s eta 0:00:01\r\u001b[K     |█████████▍                      | 501 kB 15.1 MB/s eta 0:00:01\r\u001b[K     |█████████▋                      | 512 kB 15.1 MB/s eta 0:00:01\r\u001b[K     |█████████▊                      | 522 kB 15.1 MB/s eta 0:00:01\r\u001b[K     |██████████                      | 532 kB 15.1 MB/s eta 0:00:01\r\u001b[K     |██████████▏                     | 542 kB 15.1 MB/s eta 0:00:01\r\u001b[K     |██████████▍                     | 552 kB 15.1 MB/s eta 0:00:01\r\u001b[K     |██████████▌                     | 563 kB 15.1 MB/s eta 0:00:01\r\u001b[K     |██████████▊                     | 573 kB 15.1 MB/s eta 0:00:01\r\u001b[K     |███████████                     | 583 kB 15.1 MB/s eta 0:00:01\r\u001b[K     |███████████▏                    | 593 kB 15.1 MB/s eta 0:00:01\r\u001b[K     |███████████▎                    | 604 kB 15.1 MB/s eta 0:00:01\r\u001b[K     |███████████▌                    | 614 kB 15.1 MB/s eta 0:00:01\r\u001b[K     |███████████▊                    | 624 kB 15.1 MB/s eta 0:00:01\r\u001b[K     |███████████▉                    | 634 kB 15.1 MB/s eta 0:00:01\r\u001b[K     |████████████                    | 645 kB 15.1 MB/s eta 0:00:01\r\u001b[K     |████████████▎                   | 655 kB 15.1 MB/s eta 0:00:01\r\u001b[K     |████████████▌                   | 665 kB 15.1 MB/s eta 0:00:01\r\u001b[K     |████████████▋                   | 675 kB 15.1 MB/s eta 0:00:01\r\u001b[K     |████████████▉                   | 686 kB 15.1 MB/s eta 0:00:01\r\u001b[K     |█████████████                   | 696 kB 15.1 MB/s eta 0:00:01\r\u001b[K     |█████████████▏                  | 706 kB 15.1 MB/s eta 0:00:01\r\u001b[K     |█████████████▍                  | 716 kB 15.1 MB/s eta 0:00:01\r\u001b[K     |█████████████▋                  | 727 kB 15.1 MB/s eta 0:00:01\r\u001b[K     |█████████████▉                  | 737 kB 15.1 MB/s eta 0:00:01\r\u001b[K     |██████████████                  | 747 kB 15.1 MB/s eta 0:00:01\r\u001b[K     |██████████████▏                 | 757 kB 15.1 MB/s eta 0:00:01\r\u001b[K     |██████████████▍                 | 768 kB 15.1 MB/s eta 0:00:01\r\u001b[K     |██████████████▋                 | 778 kB 15.1 MB/s eta 0:00:01\r\u001b[K     |██████████████▊                 | 788 kB 15.1 MB/s eta 0:00:01\r\u001b[K     |███████████████                 | 798 kB 15.1 MB/s eta 0:00:01\r\u001b[K     |███████████████▏                | 808 kB 15.1 MB/s eta 0:00:01\r\u001b[K     |███████████████▎                | 819 kB 15.1 MB/s eta 0:00:01\r\u001b[K     |███████████████▌                | 829 kB 15.1 MB/s eta 0:00:01\r\u001b[K     |███████████████▊                | 839 kB 15.1 MB/s eta 0:00:01\r\u001b[K     |████████████████                | 849 kB 15.1 MB/s eta 0:00:01\r\u001b[K     |████████████████                | 860 kB 15.1 MB/s eta 0:00:01\r\u001b[K     |████████████████▎               | 870 kB 15.1 MB/s eta 0:00:01\r\u001b[K     |████████████████▌               | 880 kB 15.1 MB/s eta 0:00:01\r\u001b[K     |████████████████▊               | 890 kB 15.1 MB/s eta 0:00:01\r\u001b[K     |████████████████▉               | 901 kB 15.1 MB/s eta 0:00:01\r\u001b[K     |█████████████████               | 911 kB 15.1 MB/s eta 0:00:01\r\u001b[K     |█████████████████▎              | 921 kB 15.1 MB/s eta 0:00:01\r\u001b[K     |█████████████████▍              | 931 kB 15.1 MB/s eta 0:00:01\r\u001b[K     |█████████████████▋              | 942 kB 15.1 MB/s eta 0:00:01\r\u001b[K     |█████████████████▉              | 952 kB 15.1 MB/s eta 0:00:01\r\u001b[K     |██████████████████              | 962 kB 15.1 MB/s eta 0:00:01\r\u001b[K     |██████████████████▏             | 972 kB 15.1 MB/s eta 0:00:01\r\u001b[K     |██████████████████▍             | 983 kB 15.1 MB/s eta 0:00:01\r\u001b[K     |██████████████████▋             | 993 kB 15.1 MB/s eta 0:00:01\r\u001b[K     |██████████████████▊             | 1.0 MB 15.1 MB/s eta 0:00:01\r\u001b[K     |███████████████████             | 1.0 MB 15.1 MB/s eta 0:00:01\r\u001b[K     |███████████████████▏            | 1.0 MB 15.1 MB/s eta 0:00:01\r\u001b[K     |███████████████████▍            | 1.0 MB 15.1 MB/s eta 0:00:01\r\u001b[K     |███████████████████▌            | 1.0 MB 15.1 MB/s eta 0:00:01\r\u001b[K     |███████████████████▊            | 1.1 MB 15.1 MB/s eta 0:00:01\r\u001b[K     |████████████████████            | 1.1 MB 15.1 MB/s eta 0:00:01\r\u001b[K     |████████████████████▏           | 1.1 MB 15.1 MB/s eta 0:00:01\r\u001b[K     |████████████████████▎           | 1.1 MB 15.1 MB/s eta 0:00:01\r\u001b[K     |████████████████████▌           | 1.1 MB 15.1 MB/s eta 0:00:01\r\u001b[K     |████████████████████▊           | 1.1 MB 15.1 MB/s eta 0:00:01\r\u001b[K     |████████████████████▉           | 1.1 MB 15.1 MB/s eta 0:00:01\r\u001b[K     |█████████████████████           | 1.1 MB 15.1 MB/s eta 0:00:01\r\u001b[K     |█████████████████████▎          | 1.1 MB 15.1 MB/s eta 0:00:01\r\u001b[K     |█████████████████████▌          | 1.1 MB 15.1 MB/s eta 0:00:01\r\u001b[K     |█████████████████████▋          | 1.2 MB 15.1 MB/s eta 0:00:01\r\u001b[K     |█████████████████████▉          | 1.2 MB 15.1 MB/s eta 0:00:01\r\u001b[K     |██████████████████████          | 1.2 MB 15.1 MB/s eta 0:00:01\r\u001b[K     |██████████████████████▎         | 1.2 MB 15.1 MB/s eta 0:00:01\r\u001b[K     |██████████████████████▍         | 1.2 MB 15.1 MB/s eta 0:00:01\r\u001b[K     |██████████████████████▋         | 1.2 MB 15.1 MB/s eta 0:00:01\r\u001b[K     |██████████████████████▉         | 1.2 MB 15.1 MB/s eta 0:00:01\r\u001b[K     |███████████████████████         | 1.2 MB 15.1 MB/s eta 0:00:01\r\u001b[K     |███████████████████████▏        | 1.2 MB 15.1 MB/s eta 0:00:01\r\u001b[K     |███████████████████████▍        | 1.2 MB 15.1 MB/s eta 0:00:01\r\u001b[K     |███████████████████████▋        | 1.3 MB 15.1 MB/s eta 0:00:01\r\u001b[K     |███████████████████████▊        | 1.3 MB 15.1 MB/s eta 0:00:01\r\u001b[K     |████████████████████████        | 1.3 MB 15.1 MB/s eta 0:00:01\r\u001b[K     |████████████████████████▏       | 1.3 MB 15.1 MB/s eta 0:00:01\r\u001b[K     |████████████████████████▎       | 1.3 MB 15.1 MB/s eta 0:00:01\r\u001b[K     |████████████████████████▌       | 1.3 MB 15.1 MB/s eta 0:00:01\r\u001b[K     |████████████████████████▊       | 1.3 MB 15.1 MB/s eta 0:00:01\r\u001b[K     |█████████████████████████       | 1.3 MB 15.1 MB/s eta 0:00:01\r\u001b[K     |█████████████████████████       | 1.3 MB 15.1 MB/s eta 0:00:01\r\u001b[K     |█████████████████████████▎      | 1.4 MB 15.1 MB/s eta 0:00:01\r\u001b[K     |█████████████████████████▌      | 1.4 MB 15.1 MB/s eta 0:00:01\r\u001b[K     |█████████████████████████▊      | 1.4 MB 15.1 MB/s eta 0:00:01\r\u001b[K     |█████████████████████████▉      | 1.4 MB 15.1 MB/s eta 0:00:01\r\u001b[K     |██████████████████████████      | 1.4 MB 15.1 MB/s eta 0:00:01\r\u001b[K     |██████████████████████████▎     | 1.4 MB 15.1 MB/s eta 0:00:01\r\u001b[K     |██████████████████████████▍     | 1.4 MB 15.1 MB/s eta 0:00:01\r\u001b[K     |██████████████████████████▋     | 1.4 MB 15.1 MB/s eta 0:00:01\r\u001b[K     |██████████████████████████▉     | 1.4 MB 15.1 MB/s eta 0:00:01\r\u001b[K     |███████████████████████████     | 1.4 MB 15.1 MB/s eta 0:00:01\r\u001b[K     |███████████████████████████▏    | 1.5 MB 15.1 MB/s eta 0:00:01\r\u001b[K     |███████████████████████████▍    | 1.5 MB 15.1 MB/s eta 0:00:01\r\u001b[K     |███████████████████████████▋    | 1.5 MB 15.1 MB/s eta 0:00:01\r\u001b[K     |███████████████████████████▉    | 1.5 MB 15.1 MB/s eta 0:00:01\r\u001b[K     |████████████████████████████    | 1.5 MB 15.1 MB/s eta 0:00:01\r\u001b[K     |████████████████████████████▏   | 1.5 MB 15.1 MB/s eta 0:00:01\r\u001b[K     |████████████████████████████▍   | 1.5 MB 15.1 MB/s eta 0:00:01\r\u001b[K     |████████████████████████████▌   | 1.5 MB 15.1 MB/s eta 0:00:01\r\u001b[K     |████████████████████████████▊   | 1.5 MB 15.1 MB/s eta 0:00:01\r\u001b[K     |█████████████████████████████   | 1.5 MB 15.1 MB/s eta 0:00:01\r\u001b[K     |█████████████████████████████▏  | 1.6 MB 15.1 MB/s eta 0:00:01\r\u001b[K     |█████████████████████████████▎  | 1.6 MB 15.1 MB/s eta 0:00:01\r\u001b[K     |█████████████████████████████▌  | 1.6 MB 15.1 MB/s eta 0:00:01\r\u001b[K     |█████████████████████████████▊  | 1.6 MB 15.1 MB/s eta 0:00:01\r\u001b[K     |█████████████████████████████▉  | 1.6 MB 15.1 MB/s eta 0:00:01\r\u001b[K     |██████████████████████████████  | 1.6 MB 15.1 MB/s eta 0:00:01\r\u001b[K     |██████████████████████████████▎ | 1.6 MB 15.1 MB/s eta 0:00:01\r\u001b[K     |██████████████████████████████▌ | 1.6 MB 15.1 MB/s eta 0:00:01\r\u001b[K     |██████████████████████████████▋ | 1.6 MB 15.1 MB/s eta 0:00:01\r\u001b[K     |██████████████████████████████▉ | 1.6 MB 15.1 MB/s eta 0:00:01\r\u001b[K     |███████████████████████████████ | 1.7 MB 15.1 MB/s eta 0:00:01\r\u001b[K     |███████████████████████████████▎| 1.7 MB 15.1 MB/s eta 0:00:01\r\u001b[K     |███████████████████████████████▍| 1.7 MB 15.1 MB/s eta 0:00:01\r\u001b[K     |███████████████████████████████▋| 1.7 MB 15.1 MB/s eta 0:00:01\r\u001b[K     |███████████████████████████████▉| 1.7 MB 15.1 MB/s eta 0:00:01\r\u001b[K     |████████████████████████████████| 1.7 MB 15.1 MB/s eta 0:00:01\r\u001b[K     |████████████████████████████████| 1.7 MB 15.1 MB/s \n",
            "\u001b[?25hRequirement already satisfied: numpy>=1.13.3 in /usr/local/lib/python3.7/dist-packages (from scikit-learn-extra) (1.19.5)\n",
            "Requirement already satisfied: scipy>=0.19.1 in /usr/local/lib/python3.7/dist-packages (from scikit-learn-extra) (1.4.1)\n",
            "Requirement already satisfied: scikit-learn>=0.23.0 in /usr/local/lib/python3.7/dist-packages (from scikit-learn-extra) (1.0.1)\n",
            "Requirement already satisfied: threadpoolctl>=2.0.0 in /usr/local/lib/python3.7/dist-packages (from scikit-learn>=0.23.0->scikit-learn-extra) (3.0.0)\n",
            "Requirement already satisfied: joblib>=0.11 in /usr/local/lib/python3.7/dist-packages (from scikit-learn>=0.23.0->scikit-learn-extra) (1.1.0)\n",
            "Installing collected packages: scikit-learn-extra\n",
            "Successfully installed scikit-learn-extra-0.2.0\n"
          ]
        }
      ]
    },
    {
      "cell_type": "markdown",
      "source": [
        "Import those required packages."
      ],
      "metadata": {
        "id": "9YewXFrHSE6U"
      }
    },
    {
      "cell_type": "code",
      "source": [
        "from geopy import distance\n",
        "from sklearn_extra.cluster import KMedoids\n",
        "from seaborn import color_palette\n",
        "import folium\n",
        "import pandas as pd\n",
        "import numpy as np\n",
        "import requests\n",
        "import json"
      ],
      "metadata": {
        "id": "ioxZ4A9hwCtB"
      },
      "execution_count": 2,
      "outputs": []
    },
    {
      "cell_type": "markdown",
      "source": [
        "## 2. Importing data\n",
        "Loading a test data file with three columns: `Name`, `Latitude` and `Longitude`."
      ],
      "metadata": {
        "id": "lLTmsE1otuvq"
      }
    },
    {
      "cell_type": "code",
      "source": [
        "%%file test.txt\n",
        "Name\tLatitude\tLongitude\n",
        "Is\t43.28503\t-6.75724\n",
        "Beveraso\t43.2781441\t-6.7986945\n",
        "San Emiliano\t43.2574581\t-6.8336809\n",
        "Riodecoba\t43.3073637\t-6.7926056\n",
        "Herías\t43.3154383\t-6.805375"
      ],
      "metadata": {
        "colab": {
          "base_uri": "https://localhost:8080/"
        },
        "id": "0BwUHG2Vo-ig",
        "outputId": "f86e36d5-cc3e-4314-bca7-324a13c98a16"
      },
      "execution_count": 3,
      "outputs": [
        {
          "output_type": "stream",
          "name": "stdout",
          "text": [
            "Writing test.txt\n"
          ]
        }
      ]
    },
    {
      "cell_type": "code",
      "source": [
        "name = 'test.txt'\n",
        "data = pd.read_table(name)\n",
        "data"
      ],
      "metadata": {
        "colab": {
          "base_uri": "https://localhost:8080/",
          "height": 205
        },
        "id": "WHq7FkPVvTZl",
        "outputId": "1a6ef0be-e5b7-4269-be58-07a6d8cc3b2a"
      },
      "execution_count": 4,
      "outputs": [
        {
          "output_type": "execute_result",
          "data": {
            "text/html": [
              "\n",
              "  <div id=\"df-1570dd4f-b1b8-472a-8e4d-6a15799031f5\">\n",
              "    <div class=\"colab-df-container\">\n",
              "      <div>\n",
              "<style scoped>\n",
              "    .dataframe tbody tr th:only-of-type {\n",
              "        vertical-align: middle;\n",
              "    }\n",
              "\n",
              "    .dataframe tbody tr th {\n",
              "        vertical-align: top;\n",
              "    }\n",
              "\n",
              "    .dataframe thead th {\n",
              "        text-align: right;\n",
              "    }\n",
              "</style>\n",
              "<table border=\"1\" class=\"dataframe\">\n",
              "  <thead>\n",
              "    <tr style=\"text-align: right;\">\n",
              "      <th></th>\n",
              "      <th>Name</th>\n",
              "      <th>Latitude</th>\n",
              "      <th>Longitude</th>\n",
              "    </tr>\n",
              "  </thead>\n",
              "  <tbody>\n",
              "    <tr>\n",
              "      <th>0</th>\n",
              "      <td>Is</td>\n",
              "      <td>43.285030</td>\n",
              "      <td>-6.757240</td>\n",
              "    </tr>\n",
              "    <tr>\n",
              "      <th>1</th>\n",
              "      <td>Beveraso</td>\n",
              "      <td>43.278144</td>\n",
              "      <td>-6.798695</td>\n",
              "    </tr>\n",
              "    <tr>\n",
              "      <th>2</th>\n",
              "      <td>San Emiliano</td>\n",
              "      <td>43.257458</td>\n",
              "      <td>-6.833681</td>\n",
              "    </tr>\n",
              "    <tr>\n",
              "      <th>3</th>\n",
              "      <td>Riodecoba</td>\n",
              "      <td>43.307364</td>\n",
              "      <td>-6.792606</td>\n",
              "    </tr>\n",
              "    <tr>\n",
              "      <th>4</th>\n",
              "      <td>Herías</td>\n",
              "      <td>43.315438</td>\n",
              "      <td>-6.805375</td>\n",
              "    </tr>\n",
              "  </tbody>\n",
              "</table>\n",
              "</div>\n",
              "      <button class=\"colab-df-convert\" onclick=\"convertToInteractive('df-1570dd4f-b1b8-472a-8e4d-6a15799031f5')\"\n",
              "              title=\"Convert this dataframe to an interactive table.\"\n",
              "              style=\"display:none;\">\n",
              "        \n",
              "  <svg xmlns=\"http://www.w3.org/2000/svg\" height=\"24px\"viewBox=\"0 0 24 24\"\n",
              "       width=\"24px\">\n",
              "    <path d=\"M0 0h24v24H0V0z\" fill=\"none\"/>\n",
              "    <path d=\"M18.56 5.44l.94 2.06.94-2.06 2.06-.94-2.06-.94-.94-2.06-.94 2.06-2.06.94zm-11 1L8.5 8.5l.94-2.06 2.06-.94-2.06-.94L8.5 2.5l-.94 2.06-2.06.94zm10 10l.94 2.06.94-2.06 2.06-.94-2.06-.94-.94-2.06-.94 2.06-2.06.94z\"/><path d=\"M17.41 7.96l-1.37-1.37c-.4-.4-.92-.59-1.43-.59-.52 0-1.04.2-1.43.59L10.3 9.45l-7.72 7.72c-.78.78-.78 2.05 0 2.83L4 21.41c.39.39.9.59 1.41.59.51 0 1.02-.2 1.41-.59l7.78-7.78 2.81-2.81c.8-.78.8-2.07 0-2.86zM5.41 20L4 18.59l7.72-7.72 1.47 1.35L5.41 20z\"/>\n",
              "  </svg>\n",
              "      </button>\n",
              "      \n",
              "  <style>\n",
              "    .colab-df-container {\n",
              "      display:flex;\n",
              "      flex-wrap:wrap;\n",
              "      gap: 12px;\n",
              "    }\n",
              "\n",
              "    .colab-df-convert {\n",
              "      background-color: #E8F0FE;\n",
              "      border: none;\n",
              "      border-radius: 50%;\n",
              "      cursor: pointer;\n",
              "      display: none;\n",
              "      fill: #1967D2;\n",
              "      height: 32px;\n",
              "      padding: 0 0 0 0;\n",
              "      width: 32px;\n",
              "    }\n",
              "\n",
              "    .colab-df-convert:hover {\n",
              "      background-color: #E2EBFA;\n",
              "      box-shadow: 0px 1px 2px rgba(60, 64, 67, 0.3), 0px 1px 3px 1px rgba(60, 64, 67, 0.15);\n",
              "      fill: #174EA6;\n",
              "    }\n",
              "\n",
              "    [theme=dark] .colab-df-convert {\n",
              "      background-color: #3B4455;\n",
              "      fill: #D2E3FC;\n",
              "    }\n",
              "\n",
              "    [theme=dark] .colab-df-convert:hover {\n",
              "      background-color: #434B5C;\n",
              "      box-shadow: 0px 1px 3px 1px rgba(0, 0, 0, 0.15);\n",
              "      filter: drop-shadow(0px 1px 2px rgba(0, 0, 0, 0.3));\n",
              "      fill: #FFFFFF;\n",
              "    }\n",
              "  </style>\n",
              "\n",
              "      <script>\n",
              "        const buttonEl =\n",
              "          document.querySelector('#df-1570dd4f-b1b8-472a-8e4d-6a15799031f5 button.colab-df-convert');\n",
              "        buttonEl.style.display =\n",
              "          google.colab.kernel.accessAllowed ? 'block' : 'none';\n",
              "\n",
              "        async function convertToInteractive(key) {\n",
              "          const element = document.querySelector('#df-1570dd4f-b1b8-472a-8e4d-6a15799031f5');\n",
              "          const dataTable =\n",
              "            await google.colab.kernel.invokeFunction('convertToInteractive',\n",
              "                                                     [key], {});\n",
              "          if (!dataTable) return;\n",
              "\n",
              "          const docLinkHtml = 'Like what you see? Visit the ' +\n",
              "            '<a target=\"_blank\" href=https://colab.research.google.com/notebooks/data_table.ipynb>data table notebook</a>'\n",
              "            + ' to learn more about interactive tables.';\n",
              "          element.innerHTML = '';\n",
              "          dataTable['output_type'] = 'display_data';\n",
              "          await google.colab.output.renderOutput(dataTable, element);\n",
              "          const docLink = document.createElement('div');\n",
              "          docLink.innerHTML = docLinkHtml;\n",
              "          element.appendChild(docLink);\n",
              "        }\n",
              "      </script>\n",
              "    </div>\n",
              "  </div>\n",
              "  "
            ],
            "text/plain": [
              "           Name   Latitude  Longitude\n",
              "0            Is  43.285030  -6.757240\n",
              "1      Beveraso  43.278144  -6.798695\n",
              "2  San Emiliano  43.257458  -6.833681\n",
              "3     Riodecoba  43.307364  -6.792606\n",
              "4        Herías  43.315438  -6.805375"
            ]
          },
          "metadata": {},
          "execution_count": 4
        }
      ]
    },
    {
      "cell_type": "markdown",
      "source": [
        "## 3. Arrays of traveling distances and geodesic distances\n",
        "Now, we calculate both distances arrays. There are two of them: one for traveling time distance (travel by car and time in minutes), called `durationArray` and another for geodesical distance, called `distanceArray`. The first one is computed by the [OSMR API](http://project-osrm.org/docs/v5.5.1/api/?language=cURL#general-options), the second one, using the [`geopy.distance` function](https://geopy.readthedocs.io/en/stable/#module-geopy.distance)."
      ],
      "metadata": {
        "id": "bDN96IRCSMEW"
      }
    },
    {
      "cell_type": "code",
      "source": [
        "# Longitude and Latitude vectors\n",
        "Longitude = data.Longitude\n",
        "Latitude = data.Latitude\n",
        "\n",
        "# Number of locations and ID list\n",
        "n = len(Longitude)\n",
        "id = np.array(list(zip(range(0,n), range(0, n))))\n",
        "\n",
        "# Creating a convenient string for OSRM service\n",
        "lonLatString = ''\n",
        "for i in range(0, n):\n",
        "    lon = Longitude[i]\n",
        "    lat = Latitude[i]\n",
        "    lonLatString += str(lon) + ',' + str(lat) + ';'\n",
        "\n",
        "# Not interested in the last ';' string\n",
        "lonLatString = lonLatString[0:-1]\n",
        "\n",
        "# call the OSMR API\n",
        "osmrString = \"http://router.project-osrm.org/table/v1/driving/\" + lonLatString \n",
        "r = requests.get(osmrString)\n",
        "\n",
        "# Extracting driving time duration array, in minutes, and making it symmetrical\n",
        "durationArray = 1/60 * np.array(json.loads(r.content)['durations'])\n",
        "durationArray = 1/2 * (durationArray + np.transpose(durationArray))\n",
        "\n",
        "# Creating a matrix of geodesic distances\n",
        "distanceArray = np.zeros((n,n))\n",
        "\n",
        "# Calculating distances from geopy function `distance`in kilometres\n",
        "for i in range(0, n):\n",
        "    t1 = (Latitude[i], Longitude[i])\n",
        "\n",
        "    for j in range(0, n):\n",
        "        t2 = (Latitude[j], Longitude[j])\n",
        "\n",
        "        if i < j:\n",
        "            distanceArray[i, j] = distance.distance(t1, t2).km\n",
        "            distanceArray[j, i] = distanceArray[i, j]"
      ],
      "metadata": {
        "id": "dPa-8Qm05bMu"
      },
      "execution_count": 5,
      "outputs": []
    },
    {
      "cell_type": "markdown",
      "source": [
        "## 4. kMedoids for traveling distance and plotting\n",
        "Lets calculate KMedoids for `durationArray`."
      ],
      "metadata": {
        "id": "nt4U4VN9USoH"
      }
    },
    {
      "cell_type": "code",
      "source": [
        "# Choose a number of cluster\n",
        "n_clustersDuration = 2\n",
        "\n",
        "# Apply KMedoids function.\n",
        "kmedoidsDuration = KMedoids(n_clusters=n_clustersDuration,\n",
        "                            metric='precomputed').fit(durationArray)\n",
        "durationMedoids = kmedoidsDuration.medoid_indices_\n",
        "durationLabels = kmedoidsDuration.labels_\n",
        "print('Medoid indices:', durationMedoids)\n",
        "print('Medoid labels:', durationLabels)"
      ],
      "metadata": {
        "colab": {
          "base_uri": "https://localhost:8080/"
        },
        "id": "BUW4jSYsg22A",
        "outputId": "74e7c43b-f75c-47a4-d317-b8e9e3599cc5"
      },
      "execution_count": 6,
      "outputs": [
        {
          "output_type": "stream",
          "name": "stdout",
          "text": [
            "Medoid indices: [0 4]\n",
            "Medoid labels: [0 0 1 1 1]\n"
          ]
        }
      ]
    },
    {
      "cell_type": "markdown",
      "source": [
        "Lets represent in a map."
      ],
      "metadata": {
        "id": "cjvks4hDaPcb"
      }
    },
    {
      "cell_type": "code",
      "source": [
        "# Creates the map\n",
        "f = folium.Figure(width='65%')\n",
        "m = folium.Map(location=[Latitude.mean(), Longitude.mean()]).add_to(f)\n",
        "\n",
        "# Having a touch of color.\n",
        "color = color_palette(\"husl\", n_clustersDuration).as_hex()\n",
        "\n",
        "# Representing our clustering medoids\n",
        "for i, elem in enumerate(durationMedoids):\n",
        "    folium.Circle(\n",
        "        location=[Latitude[elem], Longitude[elem]],\n",
        "        radius=300,\n",
        "        color=color[i],\n",
        "        fill=False,\n",
        "        fill_color=color[i],\n",
        "    ).add_to(m)\n",
        "\n",
        "# Representing our clustering output\n",
        "for i, elem in enumerate(durationLabels):\n",
        "    folium.Circle(\n",
        "        location=[Latitude[i], Longitude[i]],\n",
        "        radius=100,\n",
        "        popup=data.Name[i],\n",
        "        color=color[elem],\n",
        "        fill=True,\n",
        "        fill_color=color[elem],\n",
        "    ).add_to(m)\n",
        "\n",
        "# Adjust zoom\n",
        "sw = data[['Latitude', 'Longitude']].min().values.tolist()\n",
        "ne = data[['Latitude', 'Longitude']].max().values.tolist()\n",
        "m.fit_bounds([sw, ne]) \n",
        "\n",
        "m"
      ],
      "metadata": {
        "id": "StIxGBhvUZS8",
        "colab": {
          "base_uri": "https://localhost:8080/",
          "height": 538
        },
        "outputId": "0331d8b0-8ad4-4159-90fb-412df67fb6e5"
      },
      "execution_count": 7,
      "outputs": [
        {
          "output_type": "execute_result",
          "data": {
            "text/html": [
              "<div style=\"width:65%;\"><div style=\"position:relative;width:100%;height:0;padding-bottom:60%;\"><span style=\"color:#565656\">Make this Notebook Trusted to load map: File -> Trust Notebook</span><iframe src=\"about:blank\" style=\"position:absolute;width:100%;height:100%;left:0;top:0;border:none !important;\" data-html=%3C%21DOCTYPE%20html%3E%0A%3Chead%3E%20%20%20%20%0A%20%20%20%20%3Cmeta%20http-equiv%3D%22content-type%22%20content%3D%22text/html%3B%20charset%3DUTF-8%22%20/%3E%0A%20%20%20%20%3Cscript%3EL_PREFER_CANVAS%3Dfalse%3B%20L_NO_TOUCH%3Dfalse%3B%20L_DISABLE_3D%3Dfalse%3B%3C/script%3E%0A%20%20%20%20%3Cscript%20src%3D%22https%3A//cdn.jsdelivr.net/npm/leaflet%401.4.0/dist/leaflet.js%22%3E%3C/script%3E%0A%20%20%20%20%3Cscript%20src%3D%22https%3A//code.jquery.com/jquery-1.12.4.min.js%22%3E%3C/script%3E%0A%20%20%20%20%3Cscript%20src%3D%22https%3A//maxcdn.bootstrapcdn.com/bootstrap/3.2.0/js/bootstrap.min.js%22%3E%3C/script%3E%0A%20%20%20%20%3Cscript%20src%3D%22https%3A//cdnjs.cloudflare.com/ajax/libs/Leaflet.awesome-markers/2.0.2/leaflet.awesome-markers.js%22%3E%3C/script%3E%0A%20%20%20%20%3Clink%20rel%3D%22stylesheet%22%20href%3D%22https%3A//cdn.jsdelivr.net/npm/leaflet%401.4.0/dist/leaflet.css%22/%3E%0A%20%20%20%20%3Clink%20rel%3D%22stylesheet%22%20href%3D%22https%3A//maxcdn.bootstrapcdn.com/bootstrap/3.2.0/css/bootstrap.min.css%22/%3E%0A%20%20%20%20%3Clink%20rel%3D%22stylesheet%22%20href%3D%22https%3A//maxcdn.bootstrapcdn.com/bootstrap/3.2.0/css/bootstrap-theme.min.css%22/%3E%0A%20%20%20%20%3Clink%20rel%3D%22stylesheet%22%20href%3D%22https%3A//maxcdn.bootstrapcdn.com/font-awesome/4.6.3/css/font-awesome.min.css%22/%3E%0A%20%20%20%20%3Clink%20rel%3D%22stylesheet%22%20href%3D%22https%3A//cdnjs.cloudflare.com/ajax/libs/Leaflet.awesome-markers/2.0.2/leaflet.awesome-markers.css%22/%3E%0A%20%20%20%20%3Clink%20rel%3D%22stylesheet%22%20href%3D%22https%3A//rawcdn.githack.com/python-visualization/folium/master/folium/templates/leaflet.awesome.rotate.css%22/%3E%0A%20%20%20%20%3Cstyle%3Ehtml%2C%20body%20%7Bwidth%3A%20100%25%3Bheight%3A%20100%25%3Bmargin%3A%200%3Bpadding%3A%200%3B%7D%3C/style%3E%0A%20%20%20%20%3Cstyle%3E%23map%20%7Bposition%3Aabsolute%3Btop%3A0%3Bbottom%3A0%3Bright%3A0%3Bleft%3A0%3B%7D%3C/style%3E%0A%20%20%20%20%0A%20%20%20%20%3Cmeta%20name%3D%22viewport%22%20content%3D%22width%3Ddevice-width%2C%0A%20%20%20%20%20%20%20%20initial-scale%3D1.0%2C%20maximum-scale%3D1.0%2C%20user-scalable%3Dno%22%20/%3E%0A%20%20%20%20%3Cstyle%3E%23map_c01c91fdfd31441082c9340b144fea24%20%7B%0A%20%20%20%20%20%20%20%20position%3A%20relative%3B%0A%20%20%20%20%20%20%20%20width%3A%20100.0%25%3B%0A%20%20%20%20%20%20%20%20height%3A%20100.0%25%3B%0A%20%20%20%20%20%20%20%20left%3A%200.0%25%3B%0A%20%20%20%20%20%20%20%20top%3A%200.0%25%3B%0A%20%20%20%20%20%20%20%20%7D%0A%20%20%20%20%3C/style%3E%0A%3C/head%3E%0A%3Cbody%3E%20%20%20%20%0A%20%20%20%20%0A%20%20%20%20%3Cdiv%20class%3D%22folium-map%22%20id%3D%22map_c01c91fdfd31441082c9340b144fea24%22%20%3E%3C/div%3E%0A%3C/body%3E%0A%3Cscript%3E%20%20%20%20%0A%20%20%20%20%0A%20%20%20%20%0A%20%20%20%20%20%20%20%20var%20bounds%20%3D%20null%3B%0A%20%20%20%20%0A%0A%20%20%20%20var%20map_c01c91fdfd31441082c9340b144fea24%20%3D%20L.map%28%0A%20%20%20%20%20%20%20%20%27map_c01c91fdfd31441082c9340b144fea24%27%2C%20%7B%0A%20%20%20%20%20%20%20%20center%3A%20%5B43.288686840000004%2C%20-6.797519199999999%5D%2C%0A%20%20%20%20%20%20%20%20zoom%3A%2010%2C%0A%20%20%20%20%20%20%20%20maxBounds%3A%20bounds%2C%0A%20%20%20%20%20%20%20%20layers%3A%20%5B%5D%2C%0A%20%20%20%20%20%20%20%20worldCopyJump%3A%20false%2C%0A%20%20%20%20%20%20%20%20crs%3A%20L.CRS.EPSG3857%2C%0A%20%20%20%20%20%20%20%20zoomControl%3A%20true%2C%0A%20%20%20%20%20%20%20%20%7D%29%3B%0A%0A%0A%20%20%20%20%0A%20%20%20%20var%20tile_layer_d54359eacad548c1856c6c37e99e4ff9%20%3D%20L.tileLayer%28%0A%20%20%20%20%20%20%20%20%27https%3A//%7Bs%7D.tile.openstreetmap.org/%7Bz%7D/%7Bx%7D/%7By%7D.png%27%2C%0A%20%20%20%20%20%20%20%20%7B%0A%20%20%20%20%20%20%20%20%22attribution%22%3A%20null%2C%0A%20%20%20%20%20%20%20%20%22detectRetina%22%3A%20false%2C%0A%20%20%20%20%20%20%20%20%22maxNativeZoom%22%3A%2018%2C%0A%20%20%20%20%20%20%20%20%22maxZoom%22%3A%2018%2C%0A%20%20%20%20%20%20%20%20%22minZoom%22%3A%200%2C%0A%20%20%20%20%20%20%20%20%22noWrap%22%3A%20false%2C%0A%20%20%20%20%20%20%20%20%22opacity%22%3A%201%2C%0A%20%20%20%20%20%20%20%20%22subdomains%22%3A%20%22abc%22%2C%0A%20%20%20%20%20%20%20%20%22tms%22%3A%20false%0A%7D%29.addTo%28map_c01c91fdfd31441082c9340b144fea24%29%3B%0A%20%20%20%20%0A%0A%20%20%20%20%20%20%20%20%20%20%20%20var%20circle_e0bd5bfd33de41f78dbcc82f3f42449b%20%3D%20L.circle%28%0A%20%20%20%20%20%20%20%20%20%20%20%20%20%20%20%20%5B43.28503%2C%20-6.7572399999999995%5D%2C%0A%20%20%20%20%20%20%20%20%20%20%20%20%20%20%20%20%7B%0A%20%20%22bubblingMouseEvents%22%3A%20true%2C%0A%20%20%22color%22%3A%20%22%23f77189%22%2C%0A%20%20%22dashArray%22%3A%20null%2C%0A%20%20%22dashOffset%22%3A%20null%2C%0A%20%20%22fill%22%3A%20true%2C%0A%20%20%22fillColor%22%3A%20%22%23f77189%22%2C%0A%20%20%22fillOpacity%22%3A%200.2%2C%0A%20%20%22fillRule%22%3A%20%22evenodd%22%2C%0A%20%20%22lineCap%22%3A%20%22round%22%2C%0A%20%20%22lineJoin%22%3A%20%22round%22%2C%0A%20%20%22opacity%22%3A%201.0%2C%0A%20%20%22radius%22%3A%20300%2C%0A%20%20%22stroke%22%3A%20true%2C%0A%20%20%22weight%22%3A%203%0A%7D%0A%20%20%20%20%20%20%20%20%20%20%20%20%20%20%20%20%29%0A%20%20%20%20%20%20%20%20%20%20%20%20%20%20%20%20.addTo%28map_c01c91fdfd31441082c9340b144fea24%29%3B%0A%20%20%20%20%20%20%20%20%20%20%20%20%0A%20%20%20%20%0A%0A%20%20%20%20%20%20%20%20%20%20%20%20var%20circle_f361bc1fe64946ea97dbb84d0dc3d6f4%20%3D%20L.circle%28%0A%20%20%20%20%20%20%20%20%20%20%20%20%20%20%20%20%5B43.3154383%2C%20-6.805375%5D%2C%0A%20%20%20%20%20%20%20%20%20%20%20%20%20%20%20%20%7B%0A%20%20%22bubblingMouseEvents%22%3A%20true%2C%0A%20%20%22color%22%3A%20%22%2336ada4%22%2C%0A%20%20%22dashArray%22%3A%20null%2C%0A%20%20%22dashOffset%22%3A%20null%2C%0A%20%20%22fill%22%3A%20true%2C%0A%20%20%22fillColor%22%3A%20%22%2336ada4%22%2C%0A%20%20%22fillOpacity%22%3A%200.2%2C%0A%20%20%22fillRule%22%3A%20%22evenodd%22%2C%0A%20%20%22lineCap%22%3A%20%22round%22%2C%0A%20%20%22lineJoin%22%3A%20%22round%22%2C%0A%20%20%22opacity%22%3A%201.0%2C%0A%20%20%22radius%22%3A%20300%2C%0A%20%20%22stroke%22%3A%20true%2C%0A%20%20%22weight%22%3A%203%0A%7D%0A%20%20%20%20%20%20%20%20%20%20%20%20%20%20%20%20%29%0A%20%20%20%20%20%20%20%20%20%20%20%20%20%20%20%20.addTo%28map_c01c91fdfd31441082c9340b144fea24%29%3B%0A%20%20%20%20%20%20%20%20%20%20%20%20%0A%20%20%20%20%0A%0A%20%20%20%20%20%20%20%20%20%20%20%20var%20circle_9510ec77465a41cf8e08a0cc4bcb17d4%20%3D%20L.circle%28%0A%20%20%20%20%20%20%20%20%20%20%20%20%20%20%20%20%5B43.28503%2C%20-6.7572399999999995%5D%2C%0A%20%20%20%20%20%20%20%20%20%20%20%20%20%20%20%20%7B%0A%20%20%22bubblingMouseEvents%22%3A%20true%2C%0A%20%20%22color%22%3A%20%22%23f77189%22%2C%0A%20%20%22dashArray%22%3A%20null%2C%0A%20%20%22dashOffset%22%3A%20null%2C%0A%20%20%22fill%22%3A%20true%2C%0A%20%20%22fillColor%22%3A%20%22%23f77189%22%2C%0A%20%20%22fillOpacity%22%3A%200.2%2C%0A%20%20%22fillRule%22%3A%20%22evenodd%22%2C%0A%20%20%22lineCap%22%3A%20%22round%22%2C%0A%20%20%22lineJoin%22%3A%20%22round%22%2C%0A%20%20%22opacity%22%3A%201.0%2C%0A%20%20%22radius%22%3A%20100%2C%0A%20%20%22stroke%22%3A%20true%2C%0A%20%20%22weight%22%3A%203%0A%7D%0A%20%20%20%20%20%20%20%20%20%20%20%20%20%20%20%20%29%0A%20%20%20%20%20%20%20%20%20%20%20%20%20%20%20%20.addTo%28map_c01c91fdfd31441082c9340b144fea24%29%3B%0A%20%20%20%20%20%20%20%20%20%20%20%20%0A%20%20%20%20%0A%20%20%20%20%20%20%20%20%20%20%20%20var%20popup_6a0b0c580c184ef08420fbad06c74e21%20%3D%20L.popup%28%7BmaxWidth%3A%20%27100%25%27%0A%20%20%20%20%20%20%20%20%20%20%20%20%0A%20%20%20%20%20%20%20%20%20%20%20%20%7D%29%3B%0A%0A%20%20%20%20%20%20%20%20%20%20%20%20%0A%20%20%20%20%20%20%20%20%20%20%20%20%20%20%20%20var%20html_aa8d14ecb2444d0687fba77d14afaa44%20%3D%20%24%28%60%3Cdiv%20id%3D%22html_aa8d14ecb2444d0687fba77d14afaa44%22%20style%3D%22width%3A%20100.0%25%3B%20height%3A%20100.0%25%3B%22%3EIs%3C/div%3E%60%29%5B0%5D%3B%0A%20%20%20%20%20%20%20%20%20%20%20%20%20%20%20%20popup_6a0b0c580c184ef08420fbad06c74e21.setContent%28html_aa8d14ecb2444d0687fba77d14afaa44%29%3B%0A%20%20%20%20%20%20%20%20%20%20%20%20%0A%0A%20%20%20%20%20%20%20%20%20%20%20%20circle_9510ec77465a41cf8e08a0cc4bcb17d4.bindPopup%28popup_6a0b0c580c184ef08420fbad06c74e21%29%0A%20%20%20%20%20%20%20%20%20%20%20%20%3B%0A%0A%20%20%20%20%20%20%20%20%20%20%20%20%0A%20%20%20%20%20%20%20%20%0A%20%20%20%20%0A%0A%20%20%20%20%20%20%20%20%20%20%20%20var%20circle_12f684c2c6894df0878e75261a2026a7%20%3D%20L.circle%28%0A%20%20%20%20%20%20%20%20%20%20%20%20%20%20%20%20%5B43.2781441%2C%20-6.798694500000001%5D%2C%0A%20%20%20%20%20%20%20%20%20%20%20%20%20%20%20%20%7B%0A%20%20%22bubblingMouseEvents%22%3A%20true%2C%0A%20%20%22color%22%3A%20%22%23f77189%22%2C%0A%20%20%22dashArray%22%3A%20null%2C%0A%20%20%22dashOffset%22%3A%20null%2C%0A%20%20%22fill%22%3A%20true%2C%0A%20%20%22fillColor%22%3A%20%22%23f77189%22%2C%0A%20%20%22fillOpacity%22%3A%200.2%2C%0A%20%20%22fillRule%22%3A%20%22evenodd%22%2C%0A%20%20%22lineCap%22%3A%20%22round%22%2C%0A%20%20%22lineJoin%22%3A%20%22round%22%2C%0A%20%20%22opacity%22%3A%201.0%2C%0A%20%20%22radius%22%3A%20100%2C%0A%20%20%22stroke%22%3A%20true%2C%0A%20%20%22weight%22%3A%203%0A%7D%0A%20%20%20%20%20%20%20%20%20%20%20%20%20%20%20%20%29%0A%20%20%20%20%20%20%20%20%20%20%20%20%20%20%20%20.addTo%28map_c01c91fdfd31441082c9340b144fea24%29%3B%0A%20%20%20%20%20%20%20%20%20%20%20%20%0A%20%20%20%20%0A%20%20%20%20%20%20%20%20%20%20%20%20var%20popup_fb9c528a0dd14d2fa8895f14f498d6b6%20%3D%20L.popup%28%7BmaxWidth%3A%20%27100%25%27%0A%20%20%20%20%20%20%20%20%20%20%20%20%0A%20%20%20%20%20%20%20%20%20%20%20%20%7D%29%3B%0A%0A%20%20%20%20%20%20%20%20%20%20%20%20%0A%20%20%20%20%20%20%20%20%20%20%20%20%20%20%20%20var%20html_f62ec0517b1f4702b84c7577b39d9582%20%3D%20%24%28%60%3Cdiv%20id%3D%22html_f62ec0517b1f4702b84c7577b39d9582%22%20style%3D%22width%3A%20100.0%25%3B%20height%3A%20100.0%25%3B%22%3EBeveraso%3C/div%3E%60%29%5B0%5D%3B%0A%20%20%20%20%20%20%20%20%20%20%20%20%20%20%20%20popup_fb9c528a0dd14d2fa8895f14f498d6b6.setContent%28html_f62ec0517b1f4702b84c7577b39d9582%29%3B%0A%20%20%20%20%20%20%20%20%20%20%20%20%0A%0A%20%20%20%20%20%20%20%20%20%20%20%20circle_12f684c2c6894df0878e75261a2026a7.bindPopup%28popup_fb9c528a0dd14d2fa8895f14f498d6b6%29%0A%20%20%20%20%20%20%20%20%20%20%20%20%3B%0A%0A%20%20%20%20%20%20%20%20%20%20%20%20%0A%20%20%20%20%20%20%20%20%0A%20%20%20%20%0A%0A%20%20%20%20%20%20%20%20%20%20%20%20var%20circle_e611e946d4704f448acdc0396178762e%20%3D%20L.circle%28%0A%20%20%20%20%20%20%20%20%20%20%20%20%20%20%20%20%5B43.2574581%2C%20-6.833680900000001%5D%2C%0A%20%20%20%20%20%20%20%20%20%20%20%20%20%20%20%20%7B%0A%20%20%22bubblingMouseEvents%22%3A%20true%2C%0A%20%20%22color%22%3A%20%22%2336ada4%22%2C%0A%20%20%22dashArray%22%3A%20null%2C%0A%20%20%22dashOffset%22%3A%20null%2C%0A%20%20%22fill%22%3A%20true%2C%0A%20%20%22fillColor%22%3A%20%22%2336ada4%22%2C%0A%20%20%22fillOpacity%22%3A%200.2%2C%0A%20%20%22fillRule%22%3A%20%22evenodd%22%2C%0A%20%20%22lineCap%22%3A%20%22round%22%2C%0A%20%20%22lineJoin%22%3A%20%22round%22%2C%0A%20%20%22opacity%22%3A%201.0%2C%0A%20%20%22radius%22%3A%20100%2C%0A%20%20%22stroke%22%3A%20true%2C%0A%20%20%22weight%22%3A%203%0A%7D%0A%20%20%20%20%20%20%20%20%20%20%20%20%20%20%20%20%29%0A%20%20%20%20%20%20%20%20%20%20%20%20%20%20%20%20.addTo%28map_c01c91fdfd31441082c9340b144fea24%29%3B%0A%20%20%20%20%20%20%20%20%20%20%20%20%0A%20%20%20%20%0A%20%20%20%20%20%20%20%20%20%20%20%20var%20popup_e010f5f129a14ed7867a9be6df1f3e2a%20%3D%20L.popup%28%7BmaxWidth%3A%20%27100%25%27%0A%20%20%20%20%20%20%20%20%20%20%20%20%0A%20%20%20%20%20%20%20%20%20%20%20%20%7D%29%3B%0A%0A%20%20%20%20%20%20%20%20%20%20%20%20%0A%20%20%20%20%20%20%20%20%20%20%20%20%20%20%20%20var%20html_78513ef6fd8343ce88dbe7d053c9304f%20%3D%20%24%28%60%3Cdiv%20id%3D%22html_78513ef6fd8343ce88dbe7d053c9304f%22%20style%3D%22width%3A%20100.0%25%3B%20height%3A%20100.0%25%3B%22%3ESan%20Emiliano%3C/div%3E%60%29%5B0%5D%3B%0A%20%20%20%20%20%20%20%20%20%20%20%20%20%20%20%20popup_e010f5f129a14ed7867a9be6df1f3e2a.setContent%28html_78513ef6fd8343ce88dbe7d053c9304f%29%3B%0A%20%20%20%20%20%20%20%20%20%20%20%20%0A%0A%20%20%20%20%20%20%20%20%20%20%20%20circle_e611e946d4704f448acdc0396178762e.bindPopup%28popup_e010f5f129a14ed7867a9be6df1f3e2a%29%0A%20%20%20%20%20%20%20%20%20%20%20%20%3B%0A%0A%20%20%20%20%20%20%20%20%20%20%20%20%0A%20%20%20%20%20%20%20%20%0A%20%20%20%20%0A%0A%20%20%20%20%20%20%20%20%20%20%20%20var%20circle_b47da1270861489081c6531530fd2a08%20%3D%20L.circle%28%0A%20%20%20%20%20%20%20%20%20%20%20%20%20%20%20%20%5B43.3073637%2C%20-6.7926056%5D%2C%0A%20%20%20%20%20%20%20%20%20%20%20%20%20%20%20%20%7B%0A%20%20%22bubblingMouseEvents%22%3A%20true%2C%0A%20%20%22color%22%3A%20%22%2336ada4%22%2C%0A%20%20%22dashArray%22%3A%20null%2C%0A%20%20%22dashOffset%22%3A%20null%2C%0A%20%20%22fill%22%3A%20true%2C%0A%20%20%22fillColor%22%3A%20%22%2336ada4%22%2C%0A%20%20%22fillOpacity%22%3A%200.2%2C%0A%20%20%22fillRule%22%3A%20%22evenodd%22%2C%0A%20%20%22lineCap%22%3A%20%22round%22%2C%0A%20%20%22lineJoin%22%3A%20%22round%22%2C%0A%20%20%22opacity%22%3A%201.0%2C%0A%20%20%22radius%22%3A%20100%2C%0A%20%20%22stroke%22%3A%20true%2C%0A%20%20%22weight%22%3A%203%0A%7D%0A%20%20%20%20%20%20%20%20%20%20%20%20%20%20%20%20%29%0A%20%20%20%20%20%20%20%20%20%20%20%20%20%20%20%20.addTo%28map_c01c91fdfd31441082c9340b144fea24%29%3B%0A%20%20%20%20%20%20%20%20%20%20%20%20%0A%20%20%20%20%0A%20%20%20%20%20%20%20%20%20%20%20%20var%20popup_ac5f713c76d44111ae6849272681ab38%20%3D%20L.popup%28%7BmaxWidth%3A%20%27100%25%27%0A%20%20%20%20%20%20%20%20%20%20%20%20%0A%20%20%20%20%20%20%20%20%20%20%20%20%7D%29%3B%0A%0A%20%20%20%20%20%20%20%20%20%20%20%20%0A%20%20%20%20%20%20%20%20%20%20%20%20%20%20%20%20var%20html_55f65145869d40d5964ca6091e9c0a7a%20%3D%20%24%28%60%3Cdiv%20id%3D%22html_55f65145869d40d5964ca6091e9c0a7a%22%20style%3D%22width%3A%20100.0%25%3B%20height%3A%20100.0%25%3B%22%3ERiodecoba%3C/div%3E%60%29%5B0%5D%3B%0A%20%20%20%20%20%20%20%20%20%20%20%20%20%20%20%20popup_ac5f713c76d44111ae6849272681ab38.setContent%28html_55f65145869d40d5964ca6091e9c0a7a%29%3B%0A%20%20%20%20%20%20%20%20%20%20%20%20%0A%0A%20%20%20%20%20%20%20%20%20%20%20%20circle_b47da1270861489081c6531530fd2a08.bindPopup%28popup_ac5f713c76d44111ae6849272681ab38%29%0A%20%20%20%20%20%20%20%20%20%20%20%20%3B%0A%0A%20%20%20%20%20%20%20%20%20%20%20%20%0A%20%20%20%20%20%20%20%20%0A%20%20%20%20%0A%0A%20%20%20%20%20%20%20%20%20%20%20%20var%20circle_fd4e8ba0425c4e2698c1ac58d25f3d97%20%3D%20L.circle%28%0A%20%20%20%20%20%20%20%20%20%20%20%20%20%20%20%20%5B43.3154383%2C%20-6.805375%5D%2C%0A%20%20%20%20%20%20%20%20%20%20%20%20%20%20%20%20%7B%0A%20%20%22bubblingMouseEvents%22%3A%20true%2C%0A%20%20%22color%22%3A%20%22%2336ada4%22%2C%0A%20%20%22dashArray%22%3A%20null%2C%0A%20%20%22dashOffset%22%3A%20null%2C%0A%20%20%22fill%22%3A%20true%2C%0A%20%20%22fillColor%22%3A%20%22%2336ada4%22%2C%0A%20%20%22fillOpacity%22%3A%200.2%2C%0A%20%20%22fillRule%22%3A%20%22evenodd%22%2C%0A%20%20%22lineCap%22%3A%20%22round%22%2C%0A%20%20%22lineJoin%22%3A%20%22round%22%2C%0A%20%20%22opacity%22%3A%201.0%2C%0A%20%20%22radius%22%3A%20100%2C%0A%20%20%22stroke%22%3A%20true%2C%0A%20%20%22weight%22%3A%203%0A%7D%0A%20%20%20%20%20%20%20%20%20%20%20%20%20%20%20%20%29%0A%20%20%20%20%20%20%20%20%20%20%20%20%20%20%20%20.addTo%28map_c01c91fdfd31441082c9340b144fea24%29%3B%0A%20%20%20%20%20%20%20%20%20%20%20%20%0A%20%20%20%20%0A%20%20%20%20%20%20%20%20%20%20%20%20var%20popup_20651be6da634f3aa862e29d178bc7aa%20%3D%20L.popup%28%7BmaxWidth%3A%20%27100%25%27%0A%20%20%20%20%20%20%20%20%20%20%20%20%0A%20%20%20%20%20%20%20%20%20%20%20%20%7D%29%3B%0A%0A%20%20%20%20%20%20%20%20%20%20%20%20%0A%20%20%20%20%20%20%20%20%20%20%20%20%20%20%20%20var%20html_29ae8254a07d4e20865992b77be18794%20%3D%20%24%28%60%3Cdiv%20id%3D%22html_29ae8254a07d4e20865992b77be18794%22%20style%3D%22width%3A%20100.0%25%3B%20height%3A%20100.0%25%3B%22%3EHer%C3%ADas%3C/div%3E%60%29%5B0%5D%3B%0A%20%20%20%20%20%20%20%20%20%20%20%20%20%20%20%20popup_20651be6da634f3aa862e29d178bc7aa.setContent%28html_29ae8254a07d4e20865992b77be18794%29%3B%0A%20%20%20%20%20%20%20%20%20%20%20%20%0A%0A%20%20%20%20%20%20%20%20%20%20%20%20circle_fd4e8ba0425c4e2698c1ac58d25f3d97.bindPopup%28popup_20651be6da634f3aa862e29d178bc7aa%29%0A%20%20%20%20%20%20%20%20%20%20%20%20%3B%0A%0A%20%20%20%20%20%20%20%20%20%20%20%20%0A%20%20%20%20%20%20%20%20%0A%20%20%20%20%0A%20%20%20%20%20%20%20%20%20%20%20%20%20%20%20%20%0A%0A%20%20%20%20%20%20%20%20%20%20%20%20%20%20%20%20map_c01c91fdfd31441082c9340b144fea24.fitBounds%28%0A%20%20%20%20%20%20%20%20%20%20%20%20%20%20%20%20%20%20%20%20%5B%5B43.2574581%2C%20-6.833680900000001%5D%2C%20%5B43.3154383%2C%20-6.7572399999999995%5D%5D%2C%0A%20%20%20%20%20%20%20%20%20%20%20%20%20%20%20%20%20%20%20%20%7B%7D%0A%20%20%20%20%20%20%20%20%20%20%20%20%20%20%20%20%20%20%20%20%29%3B%0A%20%20%20%20%20%20%20%20%20%20%20%20%0A%3C/script%3E onload=\"this.contentDocument.open();this.contentDocument.write(    decodeURIComponent(this.getAttribute('data-html')));this.contentDocument.close();\" allowfullscreen webkitallowfullscreen mozallowfullscreen></iframe></div></div>"
            ],
            "text/plain": [
              "<folium.folium.Map at 0x7f31cf749950>"
            ]
          },
          "metadata": {},
          "execution_count": 7
        }
      ]
    },
    {
      "cell_type": "markdown",
      "source": [
        "## 5. kMedoids for traveling distance and plotting\n",
        "Lets calculate KMedoids for `distanceArray`."
      ],
      "metadata": {
        "id": "LNPxJ8FAe453"
      }
    },
    {
      "cell_type": "code",
      "source": [
        "# Choose a number of cluster\n",
        "n_clustersDistance = 2\n",
        "\n",
        "# Apply KMedoids function.\n",
        "kmedoidsDistance = KMedoids(n_clusters=n_clustersDistance,\n",
        "                            metric='precomputed').fit(distanceArray)\n",
        "distanceMedoids = kmedoidsDistance.medoid_indices_\n",
        "distanceLabels = kmedoidsDistance.labels_\n",
        "print('Medoid indices:', distanceMedoids)\n",
        "print('Medoid labels:', distanceLabels)"
      ],
      "metadata": {
        "colab": {
          "base_uri": "https://localhost:8080/"
        },
        "id": "rzVlwzpCjyD8",
        "outputId": "412a6234-676f-4de7-dc93-e7dca2515a37"
      },
      "execution_count": 8,
      "outputs": [
        {
          "output_type": "stream",
          "name": "stdout",
          "text": [
            "Medoid indices: [1 3]\n",
            "Medoid labels: [0 0 0 1 1]\n"
          ]
        }
      ]
    },
    {
      "cell_type": "markdown",
      "source": [
        "Lets represent in a map."
      ],
      "metadata": {
        "id": "MklqyuXffg6Q"
      }
    },
    {
      "cell_type": "code",
      "source": [
        "# Creates the map\n",
        "f = folium.Figure(width='65%')\n",
        "m = folium.Map(location=[Latitude.mean(), Longitude.mean()]).add_to(f)\n",
        "\n",
        "# Having a touch of color.\n",
        "color = color_palette(\"husl\", n_clustersDistance).as_hex()\n",
        "\n",
        "# Representing our clustering medoids\n",
        "for i, elem in enumerate(distanceMedoids):\n",
        "    folium.Circle(\n",
        "        location=[Latitude[elem], Longitude[elem]],\n",
        "        radius=300,\n",
        "        color=color[i],\n",
        "        fill=False,\n",
        "        fill_color=color[i],\n",
        "    ).add_to(m)\n",
        "\n",
        "# Representing our clustering output\n",
        "for i, elem in enumerate(distanceLabels):\n",
        "    folium.Circle(\n",
        "        location=[Latitude[i], Longitude[i]],\n",
        "        radius=100,\n",
        "        popup=data.Name[i],\n",
        "        color=color[elem],\n",
        "        fill=True,\n",
        "        fill_color=color[elem],\n",
        "    ).add_to(m)\n",
        "\n",
        "# Adjust zoom\n",
        "sw = data[['Latitude', 'Longitude']].min().values.tolist()\n",
        "ne = data[['Latitude', 'Longitude']].max().values.tolist()\n",
        "m.fit_bounds([sw, ne]) \n",
        "\n",
        "m"
      ],
      "metadata": {
        "colab": {
          "base_uri": "https://localhost:8080/",
          "height": 538
        },
        "outputId": "fa92f04a-e0ae-46fb-ebc8-df9acb0aaed4",
        "id": "oXt_oGN-fg6a"
      },
      "execution_count": 9,
      "outputs": [
        {
          "output_type": "execute_result",
          "data": {
            "text/html": [
              "<div style=\"width:65%;\"><div style=\"position:relative;width:100%;height:0;padding-bottom:60%;\"><span style=\"color:#565656\">Make this Notebook Trusted to load map: File -> Trust Notebook</span><iframe src=\"about:blank\" style=\"position:absolute;width:100%;height:100%;left:0;top:0;border:none !important;\" data-html=%3C%21DOCTYPE%20html%3E%0A%3Chead%3E%20%20%20%20%0A%20%20%20%20%3Cmeta%20http-equiv%3D%22content-type%22%20content%3D%22text/html%3B%20charset%3DUTF-8%22%20/%3E%0A%20%20%20%20%3Cscript%3EL_PREFER_CANVAS%3Dfalse%3B%20L_NO_TOUCH%3Dfalse%3B%20L_DISABLE_3D%3Dfalse%3B%3C/script%3E%0A%20%20%20%20%3Cscript%20src%3D%22https%3A//cdn.jsdelivr.net/npm/leaflet%401.4.0/dist/leaflet.js%22%3E%3C/script%3E%0A%20%20%20%20%3Cscript%20src%3D%22https%3A//code.jquery.com/jquery-1.12.4.min.js%22%3E%3C/script%3E%0A%20%20%20%20%3Cscript%20src%3D%22https%3A//maxcdn.bootstrapcdn.com/bootstrap/3.2.0/js/bootstrap.min.js%22%3E%3C/script%3E%0A%20%20%20%20%3Cscript%20src%3D%22https%3A//cdnjs.cloudflare.com/ajax/libs/Leaflet.awesome-markers/2.0.2/leaflet.awesome-markers.js%22%3E%3C/script%3E%0A%20%20%20%20%3Clink%20rel%3D%22stylesheet%22%20href%3D%22https%3A//cdn.jsdelivr.net/npm/leaflet%401.4.0/dist/leaflet.css%22/%3E%0A%20%20%20%20%3Clink%20rel%3D%22stylesheet%22%20href%3D%22https%3A//maxcdn.bootstrapcdn.com/bootstrap/3.2.0/css/bootstrap.min.css%22/%3E%0A%20%20%20%20%3Clink%20rel%3D%22stylesheet%22%20href%3D%22https%3A//maxcdn.bootstrapcdn.com/bootstrap/3.2.0/css/bootstrap-theme.min.css%22/%3E%0A%20%20%20%20%3Clink%20rel%3D%22stylesheet%22%20href%3D%22https%3A//maxcdn.bootstrapcdn.com/font-awesome/4.6.3/css/font-awesome.min.css%22/%3E%0A%20%20%20%20%3Clink%20rel%3D%22stylesheet%22%20href%3D%22https%3A//cdnjs.cloudflare.com/ajax/libs/Leaflet.awesome-markers/2.0.2/leaflet.awesome-markers.css%22/%3E%0A%20%20%20%20%3Clink%20rel%3D%22stylesheet%22%20href%3D%22https%3A//rawcdn.githack.com/python-visualization/folium/master/folium/templates/leaflet.awesome.rotate.css%22/%3E%0A%20%20%20%20%3Cstyle%3Ehtml%2C%20body%20%7Bwidth%3A%20100%25%3Bheight%3A%20100%25%3Bmargin%3A%200%3Bpadding%3A%200%3B%7D%3C/style%3E%0A%20%20%20%20%3Cstyle%3E%23map%20%7Bposition%3Aabsolute%3Btop%3A0%3Bbottom%3A0%3Bright%3A0%3Bleft%3A0%3B%7D%3C/style%3E%0A%20%20%20%20%0A%20%20%20%20%3Cmeta%20name%3D%22viewport%22%20content%3D%22width%3Ddevice-width%2C%0A%20%20%20%20%20%20%20%20initial-scale%3D1.0%2C%20maximum-scale%3D1.0%2C%20user-scalable%3Dno%22%20/%3E%0A%20%20%20%20%3Cstyle%3E%23map_fdc0205f01fc4a95b52b6eb265a73b00%20%7B%0A%20%20%20%20%20%20%20%20position%3A%20relative%3B%0A%20%20%20%20%20%20%20%20width%3A%20100.0%25%3B%0A%20%20%20%20%20%20%20%20height%3A%20100.0%25%3B%0A%20%20%20%20%20%20%20%20left%3A%200.0%25%3B%0A%20%20%20%20%20%20%20%20top%3A%200.0%25%3B%0A%20%20%20%20%20%20%20%20%7D%0A%20%20%20%20%3C/style%3E%0A%3C/head%3E%0A%3Cbody%3E%20%20%20%20%0A%20%20%20%20%0A%20%20%20%20%3Cdiv%20class%3D%22folium-map%22%20id%3D%22map_fdc0205f01fc4a95b52b6eb265a73b00%22%20%3E%3C/div%3E%0A%3C/body%3E%0A%3Cscript%3E%20%20%20%20%0A%20%20%20%20%0A%20%20%20%20%0A%20%20%20%20%20%20%20%20var%20bounds%20%3D%20null%3B%0A%20%20%20%20%0A%0A%20%20%20%20var%20map_fdc0205f01fc4a95b52b6eb265a73b00%20%3D%20L.map%28%0A%20%20%20%20%20%20%20%20%27map_fdc0205f01fc4a95b52b6eb265a73b00%27%2C%20%7B%0A%20%20%20%20%20%20%20%20center%3A%20%5B43.288686840000004%2C%20-6.797519199999999%5D%2C%0A%20%20%20%20%20%20%20%20zoom%3A%2010%2C%0A%20%20%20%20%20%20%20%20maxBounds%3A%20bounds%2C%0A%20%20%20%20%20%20%20%20layers%3A%20%5B%5D%2C%0A%20%20%20%20%20%20%20%20worldCopyJump%3A%20false%2C%0A%20%20%20%20%20%20%20%20crs%3A%20L.CRS.EPSG3857%2C%0A%20%20%20%20%20%20%20%20zoomControl%3A%20true%2C%0A%20%20%20%20%20%20%20%20%7D%29%3B%0A%0A%0A%20%20%20%20%0A%20%20%20%20var%20tile_layer_71873665d8044209ab609093bed0fef1%20%3D%20L.tileLayer%28%0A%20%20%20%20%20%20%20%20%27https%3A//%7Bs%7D.tile.openstreetmap.org/%7Bz%7D/%7Bx%7D/%7By%7D.png%27%2C%0A%20%20%20%20%20%20%20%20%7B%0A%20%20%20%20%20%20%20%20%22attribution%22%3A%20null%2C%0A%20%20%20%20%20%20%20%20%22detectRetina%22%3A%20false%2C%0A%20%20%20%20%20%20%20%20%22maxNativeZoom%22%3A%2018%2C%0A%20%20%20%20%20%20%20%20%22maxZoom%22%3A%2018%2C%0A%20%20%20%20%20%20%20%20%22minZoom%22%3A%200%2C%0A%20%20%20%20%20%20%20%20%22noWrap%22%3A%20false%2C%0A%20%20%20%20%20%20%20%20%22opacity%22%3A%201%2C%0A%20%20%20%20%20%20%20%20%22subdomains%22%3A%20%22abc%22%2C%0A%20%20%20%20%20%20%20%20%22tms%22%3A%20false%0A%7D%29.addTo%28map_fdc0205f01fc4a95b52b6eb265a73b00%29%3B%0A%20%20%20%20%0A%0A%20%20%20%20%20%20%20%20%20%20%20%20var%20circle_d2c060a080a34b55857d566aa7bef257%20%3D%20L.circle%28%0A%20%20%20%20%20%20%20%20%20%20%20%20%20%20%20%20%5B43.2781441%2C%20-6.798694500000001%5D%2C%0A%20%20%20%20%20%20%20%20%20%20%20%20%20%20%20%20%7B%0A%20%20%22bubblingMouseEvents%22%3A%20true%2C%0A%20%20%22color%22%3A%20%22%23f77189%22%2C%0A%20%20%22dashArray%22%3A%20null%2C%0A%20%20%22dashOffset%22%3A%20null%2C%0A%20%20%22fill%22%3A%20true%2C%0A%20%20%22fillColor%22%3A%20%22%23f77189%22%2C%0A%20%20%22fillOpacity%22%3A%200.2%2C%0A%20%20%22fillRule%22%3A%20%22evenodd%22%2C%0A%20%20%22lineCap%22%3A%20%22round%22%2C%0A%20%20%22lineJoin%22%3A%20%22round%22%2C%0A%20%20%22opacity%22%3A%201.0%2C%0A%20%20%22radius%22%3A%20300%2C%0A%20%20%22stroke%22%3A%20true%2C%0A%20%20%22weight%22%3A%203%0A%7D%0A%20%20%20%20%20%20%20%20%20%20%20%20%20%20%20%20%29%0A%20%20%20%20%20%20%20%20%20%20%20%20%20%20%20%20.addTo%28map_fdc0205f01fc4a95b52b6eb265a73b00%29%3B%0A%20%20%20%20%20%20%20%20%20%20%20%20%0A%20%20%20%20%0A%0A%20%20%20%20%20%20%20%20%20%20%20%20var%20circle_5a66855d7c9f494c9681064646fb4b0f%20%3D%20L.circle%28%0A%20%20%20%20%20%20%20%20%20%20%20%20%20%20%20%20%5B43.3073637%2C%20-6.7926056%5D%2C%0A%20%20%20%20%20%20%20%20%20%20%20%20%20%20%20%20%7B%0A%20%20%22bubblingMouseEvents%22%3A%20true%2C%0A%20%20%22color%22%3A%20%22%2336ada4%22%2C%0A%20%20%22dashArray%22%3A%20null%2C%0A%20%20%22dashOffset%22%3A%20null%2C%0A%20%20%22fill%22%3A%20true%2C%0A%20%20%22fillColor%22%3A%20%22%2336ada4%22%2C%0A%20%20%22fillOpacity%22%3A%200.2%2C%0A%20%20%22fillRule%22%3A%20%22evenodd%22%2C%0A%20%20%22lineCap%22%3A%20%22round%22%2C%0A%20%20%22lineJoin%22%3A%20%22round%22%2C%0A%20%20%22opacity%22%3A%201.0%2C%0A%20%20%22radius%22%3A%20300%2C%0A%20%20%22stroke%22%3A%20true%2C%0A%20%20%22weight%22%3A%203%0A%7D%0A%20%20%20%20%20%20%20%20%20%20%20%20%20%20%20%20%29%0A%20%20%20%20%20%20%20%20%20%20%20%20%20%20%20%20.addTo%28map_fdc0205f01fc4a95b52b6eb265a73b00%29%3B%0A%20%20%20%20%20%20%20%20%20%20%20%20%0A%20%20%20%20%0A%0A%20%20%20%20%20%20%20%20%20%20%20%20var%20circle_96e5c6db408344faa2b6e811d6b9be5c%20%3D%20L.circle%28%0A%20%20%20%20%20%20%20%20%20%20%20%20%20%20%20%20%5B43.28503%2C%20-6.7572399999999995%5D%2C%0A%20%20%20%20%20%20%20%20%20%20%20%20%20%20%20%20%7B%0A%20%20%22bubblingMouseEvents%22%3A%20true%2C%0A%20%20%22color%22%3A%20%22%23f77189%22%2C%0A%20%20%22dashArray%22%3A%20null%2C%0A%20%20%22dashOffset%22%3A%20null%2C%0A%20%20%22fill%22%3A%20true%2C%0A%20%20%22fillColor%22%3A%20%22%23f77189%22%2C%0A%20%20%22fillOpacity%22%3A%200.2%2C%0A%20%20%22fillRule%22%3A%20%22evenodd%22%2C%0A%20%20%22lineCap%22%3A%20%22round%22%2C%0A%20%20%22lineJoin%22%3A%20%22round%22%2C%0A%20%20%22opacity%22%3A%201.0%2C%0A%20%20%22radius%22%3A%20100%2C%0A%20%20%22stroke%22%3A%20true%2C%0A%20%20%22weight%22%3A%203%0A%7D%0A%20%20%20%20%20%20%20%20%20%20%20%20%20%20%20%20%29%0A%20%20%20%20%20%20%20%20%20%20%20%20%20%20%20%20.addTo%28map_fdc0205f01fc4a95b52b6eb265a73b00%29%3B%0A%20%20%20%20%20%20%20%20%20%20%20%20%0A%20%20%20%20%0A%20%20%20%20%20%20%20%20%20%20%20%20var%20popup_103a94c49f46461eb06227c7a541e60a%20%3D%20L.popup%28%7BmaxWidth%3A%20%27100%25%27%0A%20%20%20%20%20%20%20%20%20%20%20%20%0A%20%20%20%20%20%20%20%20%20%20%20%20%7D%29%3B%0A%0A%20%20%20%20%20%20%20%20%20%20%20%20%0A%20%20%20%20%20%20%20%20%20%20%20%20%20%20%20%20var%20html_7c02fe0715734854a00108f7ab759dc7%20%3D%20%24%28%60%3Cdiv%20id%3D%22html_7c02fe0715734854a00108f7ab759dc7%22%20style%3D%22width%3A%20100.0%25%3B%20height%3A%20100.0%25%3B%22%3EIs%3C/div%3E%60%29%5B0%5D%3B%0A%20%20%20%20%20%20%20%20%20%20%20%20%20%20%20%20popup_103a94c49f46461eb06227c7a541e60a.setContent%28html_7c02fe0715734854a00108f7ab759dc7%29%3B%0A%20%20%20%20%20%20%20%20%20%20%20%20%0A%0A%20%20%20%20%20%20%20%20%20%20%20%20circle_96e5c6db408344faa2b6e811d6b9be5c.bindPopup%28popup_103a94c49f46461eb06227c7a541e60a%29%0A%20%20%20%20%20%20%20%20%20%20%20%20%3B%0A%0A%20%20%20%20%20%20%20%20%20%20%20%20%0A%20%20%20%20%20%20%20%20%0A%20%20%20%20%0A%0A%20%20%20%20%20%20%20%20%20%20%20%20var%20circle_a10e3b42fbb74cf2b9ad1d6c3ad8788f%20%3D%20L.circle%28%0A%20%20%20%20%20%20%20%20%20%20%20%20%20%20%20%20%5B43.2781441%2C%20-6.798694500000001%5D%2C%0A%20%20%20%20%20%20%20%20%20%20%20%20%20%20%20%20%7B%0A%20%20%22bubblingMouseEvents%22%3A%20true%2C%0A%20%20%22color%22%3A%20%22%23f77189%22%2C%0A%20%20%22dashArray%22%3A%20null%2C%0A%20%20%22dashOffset%22%3A%20null%2C%0A%20%20%22fill%22%3A%20true%2C%0A%20%20%22fillColor%22%3A%20%22%23f77189%22%2C%0A%20%20%22fillOpacity%22%3A%200.2%2C%0A%20%20%22fillRule%22%3A%20%22evenodd%22%2C%0A%20%20%22lineCap%22%3A%20%22round%22%2C%0A%20%20%22lineJoin%22%3A%20%22round%22%2C%0A%20%20%22opacity%22%3A%201.0%2C%0A%20%20%22radius%22%3A%20100%2C%0A%20%20%22stroke%22%3A%20true%2C%0A%20%20%22weight%22%3A%203%0A%7D%0A%20%20%20%20%20%20%20%20%20%20%20%20%20%20%20%20%29%0A%20%20%20%20%20%20%20%20%20%20%20%20%20%20%20%20.addTo%28map_fdc0205f01fc4a95b52b6eb265a73b00%29%3B%0A%20%20%20%20%20%20%20%20%20%20%20%20%0A%20%20%20%20%0A%20%20%20%20%20%20%20%20%20%20%20%20var%20popup_28cc67b7b238484f9addebdee14c6e0f%20%3D%20L.popup%28%7BmaxWidth%3A%20%27100%25%27%0A%20%20%20%20%20%20%20%20%20%20%20%20%0A%20%20%20%20%20%20%20%20%20%20%20%20%7D%29%3B%0A%0A%20%20%20%20%20%20%20%20%20%20%20%20%0A%20%20%20%20%20%20%20%20%20%20%20%20%20%20%20%20var%20html_708dc58e1938462b92a89dff01b6a52c%20%3D%20%24%28%60%3Cdiv%20id%3D%22html_708dc58e1938462b92a89dff01b6a52c%22%20style%3D%22width%3A%20100.0%25%3B%20height%3A%20100.0%25%3B%22%3EBeveraso%3C/div%3E%60%29%5B0%5D%3B%0A%20%20%20%20%20%20%20%20%20%20%20%20%20%20%20%20popup_28cc67b7b238484f9addebdee14c6e0f.setContent%28html_708dc58e1938462b92a89dff01b6a52c%29%3B%0A%20%20%20%20%20%20%20%20%20%20%20%20%0A%0A%20%20%20%20%20%20%20%20%20%20%20%20circle_a10e3b42fbb74cf2b9ad1d6c3ad8788f.bindPopup%28popup_28cc67b7b238484f9addebdee14c6e0f%29%0A%20%20%20%20%20%20%20%20%20%20%20%20%3B%0A%0A%20%20%20%20%20%20%20%20%20%20%20%20%0A%20%20%20%20%20%20%20%20%0A%20%20%20%20%0A%0A%20%20%20%20%20%20%20%20%20%20%20%20var%20circle_86855f0ffd474d93b5c1d352eb971684%20%3D%20L.circle%28%0A%20%20%20%20%20%20%20%20%20%20%20%20%20%20%20%20%5B43.2574581%2C%20-6.833680900000001%5D%2C%0A%20%20%20%20%20%20%20%20%20%20%20%20%20%20%20%20%7B%0A%20%20%22bubblingMouseEvents%22%3A%20true%2C%0A%20%20%22color%22%3A%20%22%23f77189%22%2C%0A%20%20%22dashArray%22%3A%20null%2C%0A%20%20%22dashOffset%22%3A%20null%2C%0A%20%20%22fill%22%3A%20true%2C%0A%20%20%22fillColor%22%3A%20%22%23f77189%22%2C%0A%20%20%22fillOpacity%22%3A%200.2%2C%0A%20%20%22fillRule%22%3A%20%22evenodd%22%2C%0A%20%20%22lineCap%22%3A%20%22round%22%2C%0A%20%20%22lineJoin%22%3A%20%22round%22%2C%0A%20%20%22opacity%22%3A%201.0%2C%0A%20%20%22radius%22%3A%20100%2C%0A%20%20%22stroke%22%3A%20true%2C%0A%20%20%22weight%22%3A%203%0A%7D%0A%20%20%20%20%20%20%20%20%20%20%20%20%20%20%20%20%29%0A%20%20%20%20%20%20%20%20%20%20%20%20%20%20%20%20.addTo%28map_fdc0205f01fc4a95b52b6eb265a73b00%29%3B%0A%20%20%20%20%20%20%20%20%20%20%20%20%0A%20%20%20%20%0A%20%20%20%20%20%20%20%20%20%20%20%20var%20popup_01a15c85935a4db293e8ea082f34f30a%20%3D%20L.popup%28%7BmaxWidth%3A%20%27100%25%27%0A%20%20%20%20%20%20%20%20%20%20%20%20%0A%20%20%20%20%20%20%20%20%20%20%20%20%7D%29%3B%0A%0A%20%20%20%20%20%20%20%20%20%20%20%20%0A%20%20%20%20%20%20%20%20%20%20%20%20%20%20%20%20var%20html_9cea34c654c342039b52d5bc23f1db7a%20%3D%20%24%28%60%3Cdiv%20id%3D%22html_9cea34c654c342039b52d5bc23f1db7a%22%20style%3D%22width%3A%20100.0%25%3B%20height%3A%20100.0%25%3B%22%3ESan%20Emiliano%3C/div%3E%60%29%5B0%5D%3B%0A%20%20%20%20%20%20%20%20%20%20%20%20%20%20%20%20popup_01a15c85935a4db293e8ea082f34f30a.setContent%28html_9cea34c654c342039b52d5bc23f1db7a%29%3B%0A%20%20%20%20%20%20%20%20%20%20%20%20%0A%0A%20%20%20%20%20%20%20%20%20%20%20%20circle_86855f0ffd474d93b5c1d352eb971684.bindPopup%28popup_01a15c85935a4db293e8ea082f34f30a%29%0A%20%20%20%20%20%20%20%20%20%20%20%20%3B%0A%0A%20%20%20%20%20%20%20%20%20%20%20%20%0A%20%20%20%20%20%20%20%20%0A%20%20%20%20%0A%0A%20%20%20%20%20%20%20%20%20%20%20%20var%20circle_a5f54570377947848e5ed55bed511b69%20%3D%20L.circle%28%0A%20%20%20%20%20%20%20%20%20%20%20%20%20%20%20%20%5B43.3073637%2C%20-6.7926056%5D%2C%0A%20%20%20%20%20%20%20%20%20%20%20%20%20%20%20%20%7B%0A%20%20%22bubblingMouseEvents%22%3A%20true%2C%0A%20%20%22color%22%3A%20%22%2336ada4%22%2C%0A%20%20%22dashArray%22%3A%20null%2C%0A%20%20%22dashOffset%22%3A%20null%2C%0A%20%20%22fill%22%3A%20true%2C%0A%20%20%22fillColor%22%3A%20%22%2336ada4%22%2C%0A%20%20%22fillOpacity%22%3A%200.2%2C%0A%20%20%22fillRule%22%3A%20%22evenodd%22%2C%0A%20%20%22lineCap%22%3A%20%22round%22%2C%0A%20%20%22lineJoin%22%3A%20%22round%22%2C%0A%20%20%22opacity%22%3A%201.0%2C%0A%20%20%22radius%22%3A%20100%2C%0A%20%20%22stroke%22%3A%20true%2C%0A%20%20%22weight%22%3A%203%0A%7D%0A%20%20%20%20%20%20%20%20%20%20%20%20%20%20%20%20%29%0A%20%20%20%20%20%20%20%20%20%20%20%20%20%20%20%20.addTo%28map_fdc0205f01fc4a95b52b6eb265a73b00%29%3B%0A%20%20%20%20%20%20%20%20%20%20%20%20%0A%20%20%20%20%0A%20%20%20%20%20%20%20%20%20%20%20%20var%20popup_43db7dad31e04aafaf782fdf16808f3b%20%3D%20L.popup%28%7BmaxWidth%3A%20%27100%25%27%0A%20%20%20%20%20%20%20%20%20%20%20%20%0A%20%20%20%20%20%20%20%20%20%20%20%20%7D%29%3B%0A%0A%20%20%20%20%20%20%20%20%20%20%20%20%0A%20%20%20%20%20%20%20%20%20%20%20%20%20%20%20%20var%20html_034fe1584a54460f8ffaa59ddb8d72aa%20%3D%20%24%28%60%3Cdiv%20id%3D%22html_034fe1584a54460f8ffaa59ddb8d72aa%22%20style%3D%22width%3A%20100.0%25%3B%20height%3A%20100.0%25%3B%22%3ERiodecoba%3C/div%3E%60%29%5B0%5D%3B%0A%20%20%20%20%20%20%20%20%20%20%20%20%20%20%20%20popup_43db7dad31e04aafaf782fdf16808f3b.setContent%28html_034fe1584a54460f8ffaa59ddb8d72aa%29%3B%0A%20%20%20%20%20%20%20%20%20%20%20%20%0A%0A%20%20%20%20%20%20%20%20%20%20%20%20circle_a5f54570377947848e5ed55bed511b69.bindPopup%28popup_43db7dad31e04aafaf782fdf16808f3b%29%0A%20%20%20%20%20%20%20%20%20%20%20%20%3B%0A%0A%20%20%20%20%20%20%20%20%20%20%20%20%0A%20%20%20%20%20%20%20%20%0A%20%20%20%20%0A%0A%20%20%20%20%20%20%20%20%20%20%20%20var%20circle_269dad69b8114a6a8cb685117e1dee9a%20%3D%20L.circle%28%0A%20%20%20%20%20%20%20%20%20%20%20%20%20%20%20%20%5B43.3154383%2C%20-6.805375%5D%2C%0A%20%20%20%20%20%20%20%20%20%20%20%20%20%20%20%20%7B%0A%20%20%22bubblingMouseEvents%22%3A%20true%2C%0A%20%20%22color%22%3A%20%22%2336ada4%22%2C%0A%20%20%22dashArray%22%3A%20null%2C%0A%20%20%22dashOffset%22%3A%20null%2C%0A%20%20%22fill%22%3A%20true%2C%0A%20%20%22fillColor%22%3A%20%22%2336ada4%22%2C%0A%20%20%22fillOpacity%22%3A%200.2%2C%0A%20%20%22fillRule%22%3A%20%22evenodd%22%2C%0A%20%20%22lineCap%22%3A%20%22round%22%2C%0A%20%20%22lineJoin%22%3A%20%22round%22%2C%0A%20%20%22opacity%22%3A%201.0%2C%0A%20%20%22radius%22%3A%20100%2C%0A%20%20%22stroke%22%3A%20true%2C%0A%20%20%22weight%22%3A%203%0A%7D%0A%20%20%20%20%20%20%20%20%20%20%20%20%20%20%20%20%29%0A%20%20%20%20%20%20%20%20%20%20%20%20%20%20%20%20.addTo%28map_fdc0205f01fc4a95b52b6eb265a73b00%29%3B%0A%20%20%20%20%20%20%20%20%20%20%20%20%0A%20%20%20%20%0A%20%20%20%20%20%20%20%20%20%20%20%20var%20popup_461beecdd4ff480aa54e8f9430949abe%20%3D%20L.popup%28%7BmaxWidth%3A%20%27100%25%27%0A%20%20%20%20%20%20%20%20%20%20%20%20%0A%20%20%20%20%20%20%20%20%20%20%20%20%7D%29%3B%0A%0A%20%20%20%20%20%20%20%20%20%20%20%20%0A%20%20%20%20%20%20%20%20%20%20%20%20%20%20%20%20var%20html_c1a0a5af4ae747d49966157078ac8695%20%3D%20%24%28%60%3Cdiv%20id%3D%22html_c1a0a5af4ae747d49966157078ac8695%22%20style%3D%22width%3A%20100.0%25%3B%20height%3A%20100.0%25%3B%22%3EHer%C3%ADas%3C/div%3E%60%29%5B0%5D%3B%0A%20%20%20%20%20%20%20%20%20%20%20%20%20%20%20%20popup_461beecdd4ff480aa54e8f9430949abe.setContent%28html_c1a0a5af4ae747d49966157078ac8695%29%3B%0A%20%20%20%20%20%20%20%20%20%20%20%20%0A%0A%20%20%20%20%20%20%20%20%20%20%20%20circle_269dad69b8114a6a8cb685117e1dee9a.bindPopup%28popup_461beecdd4ff480aa54e8f9430949abe%29%0A%20%20%20%20%20%20%20%20%20%20%20%20%3B%0A%0A%20%20%20%20%20%20%20%20%20%20%20%20%0A%20%20%20%20%20%20%20%20%0A%20%20%20%20%0A%20%20%20%20%20%20%20%20%20%20%20%20%20%20%20%20%0A%0A%20%20%20%20%20%20%20%20%20%20%20%20%20%20%20%20map_fdc0205f01fc4a95b52b6eb265a73b00.fitBounds%28%0A%20%20%20%20%20%20%20%20%20%20%20%20%20%20%20%20%20%20%20%20%5B%5B43.2574581%2C%20-6.833680900000001%5D%2C%20%5B43.3154383%2C%20-6.7572399999999995%5D%5D%2C%0A%20%20%20%20%20%20%20%20%20%20%20%20%20%20%20%20%20%20%20%20%7B%7D%0A%20%20%20%20%20%20%20%20%20%20%20%20%20%20%20%20%20%20%20%20%29%3B%0A%20%20%20%20%20%20%20%20%20%20%20%20%0A%3C/script%3E onload=\"this.contentDocument.open();this.contentDocument.write(    decodeURIComponent(this.getAttribute('data-html')));this.contentDocument.close();\" allowfullscreen webkitallowfullscreen mozallowfullscreen></iframe></div></div>"
            ],
            "text/plain": [
              "<folium.folium.Map at 0x7f31cf2e82d0>"
            ]
          },
          "metadata": {},
          "execution_count": 9
        }
      ]
    },
    {
      "cell_type": "markdown",
      "source": [
        "## 6. Applying some math\n",
        "After having used `KMedoids` algorithm and represented in maps, lets create the function `sumDecomposition` for mathematical cluster analysis. It computes $T$, the total sum of distances between objects, i.e.,\n",
        "$$T = \\dfrac{1}{2} \\sum_{i=1}^n \\sum_{i=1}^n dist(i, j).$$\n",
        "\n",
        "If $C$ is that function that identifies every object with its cluster, then $T$ can be decomposed in the sum of distances whithin clusters, $W$ and the sum of distances between clusters, $B$, i.e.,\n",
        "$$T = \\dfrac{1}{2} \\sum_{i=1}^k \\sum_{C(i)=c} \\left( \\sum_{C(j) = c}dist(i, j) + \\sum_{C(j)\\neq c} dist(i, j) \\right) = W + B,$$\n",
        "where $k$ is the total number of clusters."
      ],
      "metadata": {
        "id": "pmTrsLAvTshO"
      }
    },
    {
      "cell_type": "code",
      "source": [
        "def sumDecomposition(distances, medoids, labels):\n",
        "    \"\"\"\n",
        "    This function calculates the total sum of distances, T, the sum of distances \n",
        "    within clusters, W, and the sum of distances between clusters, B.\n",
        "    Arguments:\n",
        "        distances: array of distances.\n",
        "        medoids: list of medoid indices.\n",
        "        labels: list of clustering labels.\n",
        "    \"\"\"\n",
        "    T = 1/2 * np.sum(distances)\n",
        "    W = 0\n",
        "    B = 0\n",
        "    for cluster in range(0, len(medoids)):\n",
        "        for i, elem in enumerate(labels):\n",
        "            if elem == cluster:\n",
        "                for j, elem2 in enumerate(labels):\n",
        "                    if elem2 == cluster:\n",
        "                        W += distances[i, j]\n",
        "                    else:\n",
        "                        B += distances[i, j]\n",
        "    W *= 1/2\n",
        "    B *= 1/2\n",
        "    return T, W, B"
      ],
      "metadata": {
        "id": "rG94hVOERniD"
      },
      "execution_count": 10,
      "outputs": []
    },
    {
      "cell_type": "markdown",
      "source": [
        "Some results:"
      ],
      "metadata": {
        "id": "Xz0ZmQE_2b5N"
      }
    },
    {
      "cell_type": "code",
      "source": [
        "Tduration, Wduration, Bduration = sumDecomposition(durationArray,\n",
        "                                                   durationMedoids,\n",
        "                                                   durationLabels)\n",
        "print(f\"Unsig traveling time distance, T = {Tduration}, W = {Wduration},\\n\",\n",
        " f\"B = {Bduration}, W/T = {Wduration/Tduration}\")"
      ],
      "metadata": {
        "id": "NJfQFtutHPik",
        "colab": {
          "base_uri": "https://localhost:8080/"
        },
        "outputId": "6c074a89-543a-4d02-a60c-fe140cc4b843"
      },
      "execution_count": 11,
      "outputs": [
        {
          "output_type": "stream",
          "name": "stdout",
          "text": [
            "Unsig traveling time distance, T = 589.5591666666667, W = 99.13916666666665,\n",
            " B = 490.4200000000001, W/T = 0.16815812944982902\n"
          ]
        }
      ]
    },
    {
      "cell_type": "code",
      "source": [
        "Tdistance, Wdistance, Bdistance = sumDecomposition(distanceArray,\n",
        "                                                   distanceMedoids,\n",
        "                                                   distanceLabels)\n",
        "print(f\"Unsig geodesic distance, T = {Tdistance}, W = {Wdistance},\\n\",\n",
        " f\"B = {Bdistance}, W/T = {Wdistance/Tdistance}\")"
      ],
      "metadata": {
        "colab": {
          "base_uri": "https://localhost:8080/"
        },
        "id": "bRGBcPfELqTi",
        "outputId": "a7008f31-86ef-4ffd-f965-33067512e136"
      },
      "execution_count": 12,
      "outputs": [
        {
          "output_type": "stream",
          "name": "stdout",
          "text": [
            "Unsig geodesic distance, T = 45.123849468424055, W = 15.395138140521212,\n",
            " B = 29.72871132790284, W/T = 0.34117519497741744\n"
          ]
        }
      ]
    }
  ]
}
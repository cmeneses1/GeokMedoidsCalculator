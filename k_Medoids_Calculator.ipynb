{
  "nbformat": 4,
  "nbformat_minor": 0,
  "metadata": {
    "colab": {
      "name": "k-Medoids Calculator.ipynb",
      "provenance": [],
      "authorship_tag": "ABX9TyMS75g+g+DyBwVHrpT35gYN",
      "include_colab_link": true
    },
    "kernelspec": {
      "name": "python3",
      "display_name": "Python 3"
    },
    "language_info": {
      "name": "python"
    }
  },
  "cells": [
    {
      "cell_type": "markdown",
      "metadata": {
        "id": "view-in-github",
        "colab_type": "text"
      },
      "source": [
        "<a href=\"https://colab.research.google.com/github/cmeneses1/kMedoidsCalculator/blob/main/k_Medoids_Calculator.ipynb\" target=\"_parent\"><img src=\"https://colab.research.google.com/assets/colab-badge.svg\" alt=\"Open In Colab\"/></a>"
      ]
    },
    {
      "cell_type": "markdown",
      "source": [
        "# k-Medoids Calculator\n",
        "-----------"
      ],
      "metadata": {
        "id": "IXtI48iLpyWB"
      }
    },
    {
      "cell_type": "code",
      "source": [
        "from geopy import distance\n",
        "import pandas as pd\n",
        "import numpy as np\n",
        "import requests\n",
        "import json"
      ],
      "metadata": {
        "id": "ioxZ4A9hwCtB"
      },
      "execution_count": 77,
      "outputs": []
    },
    {
      "cell_type": "markdown",
      "source": [
        "Loading a test data file with three columns: `Name`, `Latitude` and `Longitude`."
      ],
      "metadata": {
        "id": "lLTmsE1otuvq"
      }
    },
    {
      "cell_type": "code",
      "source": [
        "%%file test.txt\n",
        "Name\tLatitude\tLongitude\n",
        "Is\t43.28503\t-6.75724\n",
        "Beveraso\t43.2781441\t-6.7986945\n",
        "San Emiliano\t43.2574581\t-6.8336809\n",
        "Riodecoba\t43.3073637\t-6.7926056\n",
        "Herías\t43.3154383\t-6.805375"
      ],
      "metadata": {
        "colab": {
          "base_uri": "https://localhost:8080/"
        },
        "id": "0BwUHG2Vo-ig",
        "outputId": "cbf9139d-d5ee-4aa7-b027-c0a0c9884639"
      },
      "execution_count": 6,
      "outputs": [
        {
          "output_type": "stream",
          "name": "stdout",
          "text": [
            "Writing test.txt\n"
          ]
        }
      ]
    },
    {
      "cell_type": "code",
      "source": [
        "name = 'test.txt'\n",
        "data = pd.read_table(name)\n",
        "data"
      ],
      "metadata": {
        "colab": {
          "base_uri": "https://localhost:8080/",
          "height": 205
        },
        "id": "WHq7FkPVvTZl",
        "outputId": "c8785b29-c8ee-4e8d-b2fc-30cd07b6d323"
      },
      "execution_count": 75,
      "outputs": [
        {
          "output_type": "execute_result",
          "data": {
            "text/html": [
              "\n",
              "  <div id=\"df-109903be-f97d-46cb-8636-175a11377b0b\">\n",
              "    <div class=\"colab-df-container\">\n",
              "      <div>\n",
              "<style scoped>\n",
              "    .dataframe tbody tr th:only-of-type {\n",
              "        vertical-align: middle;\n",
              "    }\n",
              "\n",
              "    .dataframe tbody tr th {\n",
              "        vertical-align: top;\n",
              "    }\n",
              "\n",
              "    .dataframe thead th {\n",
              "        text-align: right;\n",
              "    }\n",
              "</style>\n",
              "<table border=\"1\" class=\"dataframe\">\n",
              "  <thead>\n",
              "    <tr style=\"text-align: right;\">\n",
              "      <th></th>\n",
              "      <th>Name</th>\n",
              "      <th>Latitude</th>\n",
              "      <th>Longitude</th>\n",
              "    </tr>\n",
              "  </thead>\n",
              "  <tbody>\n",
              "    <tr>\n",
              "      <th>0</th>\n",
              "      <td>Is</td>\n",
              "      <td>43.285030</td>\n",
              "      <td>-6.757240</td>\n",
              "    </tr>\n",
              "    <tr>\n",
              "      <th>1</th>\n",
              "      <td>Beveraso</td>\n",
              "      <td>43.278144</td>\n",
              "      <td>-6.798695</td>\n",
              "    </tr>\n",
              "    <tr>\n",
              "      <th>2</th>\n",
              "      <td>San Emiliano</td>\n",
              "      <td>43.257458</td>\n",
              "      <td>-6.833681</td>\n",
              "    </tr>\n",
              "    <tr>\n",
              "      <th>3</th>\n",
              "      <td>Riodecoba</td>\n",
              "      <td>43.307364</td>\n",
              "      <td>-6.792606</td>\n",
              "    </tr>\n",
              "    <tr>\n",
              "      <th>4</th>\n",
              "      <td>Herías</td>\n",
              "      <td>43.315438</td>\n",
              "      <td>-6.805375</td>\n",
              "    </tr>\n",
              "  </tbody>\n",
              "</table>\n",
              "</div>\n",
              "      <button class=\"colab-df-convert\" onclick=\"convertToInteractive('df-109903be-f97d-46cb-8636-175a11377b0b')\"\n",
              "              title=\"Convert this dataframe to an interactive table.\"\n",
              "              style=\"display:none;\">\n",
              "        \n",
              "  <svg xmlns=\"http://www.w3.org/2000/svg\" height=\"24px\"viewBox=\"0 0 24 24\"\n",
              "       width=\"24px\">\n",
              "    <path d=\"M0 0h24v24H0V0z\" fill=\"none\"/>\n",
              "    <path d=\"M18.56 5.44l.94 2.06.94-2.06 2.06-.94-2.06-.94-.94-2.06-.94 2.06-2.06.94zm-11 1L8.5 8.5l.94-2.06 2.06-.94-2.06-.94L8.5 2.5l-.94 2.06-2.06.94zm10 10l.94 2.06.94-2.06 2.06-.94-2.06-.94-.94-2.06-.94 2.06-2.06.94z\"/><path d=\"M17.41 7.96l-1.37-1.37c-.4-.4-.92-.59-1.43-.59-.52 0-1.04.2-1.43.59L10.3 9.45l-7.72 7.72c-.78.78-.78 2.05 0 2.83L4 21.41c.39.39.9.59 1.41.59.51 0 1.02-.2 1.41-.59l7.78-7.78 2.81-2.81c.8-.78.8-2.07 0-2.86zM5.41 20L4 18.59l7.72-7.72 1.47 1.35L5.41 20z\"/>\n",
              "  </svg>\n",
              "      </button>\n",
              "      \n",
              "  <style>\n",
              "    .colab-df-container {\n",
              "      display:flex;\n",
              "      flex-wrap:wrap;\n",
              "      gap: 12px;\n",
              "    }\n",
              "\n",
              "    .colab-df-convert {\n",
              "      background-color: #E8F0FE;\n",
              "      border: none;\n",
              "      border-radius: 50%;\n",
              "      cursor: pointer;\n",
              "      display: none;\n",
              "      fill: #1967D2;\n",
              "      height: 32px;\n",
              "      padding: 0 0 0 0;\n",
              "      width: 32px;\n",
              "    }\n",
              "\n",
              "    .colab-df-convert:hover {\n",
              "      background-color: #E2EBFA;\n",
              "      box-shadow: 0px 1px 2px rgba(60, 64, 67, 0.3), 0px 1px 3px 1px rgba(60, 64, 67, 0.15);\n",
              "      fill: #174EA6;\n",
              "    }\n",
              "\n",
              "    [theme=dark] .colab-df-convert {\n",
              "      background-color: #3B4455;\n",
              "      fill: #D2E3FC;\n",
              "    }\n",
              "\n",
              "    [theme=dark] .colab-df-convert:hover {\n",
              "      background-color: #434B5C;\n",
              "      box-shadow: 0px 1px 3px 1px rgba(0, 0, 0, 0.15);\n",
              "      filter: drop-shadow(0px 1px 2px rgba(0, 0, 0, 0.3));\n",
              "      fill: #FFFFFF;\n",
              "    }\n",
              "  </style>\n",
              "\n",
              "      <script>\n",
              "        const buttonEl =\n",
              "          document.querySelector('#df-109903be-f97d-46cb-8636-175a11377b0b button.colab-df-convert');\n",
              "        buttonEl.style.display =\n",
              "          google.colab.kernel.accessAllowed ? 'block' : 'none';\n",
              "\n",
              "        async function convertToInteractive(key) {\n",
              "          const element = document.querySelector('#df-109903be-f97d-46cb-8636-175a11377b0b');\n",
              "          const dataTable =\n",
              "            await google.colab.kernel.invokeFunction('convertToInteractive',\n",
              "                                                     [key], {});\n",
              "          if (!dataTable) return;\n",
              "\n",
              "          const docLinkHtml = 'Like what you see? Visit the ' +\n",
              "            '<a target=\"_blank\" href=https://colab.research.google.com/notebooks/data_table.ipynb>data table notebook</a>'\n",
              "            + ' to learn more about interactive tables.';\n",
              "          element.innerHTML = '';\n",
              "          dataTable['output_type'] = 'display_data';\n",
              "          await google.colab.output.renderOutput(dataTable, element);\n",
              "          const docLink = document.createElement('div');\n",
              "          docLink.innerHTML = docLinkHtml;\n",
              "          element.appendChild(docLink);\n",
              "        }\n",
              "      </script>\n",
              "    </div>\n",
              "  </div>\n",
              "  "
            ],
            "text/plain": [
              "           Name   Latitude  Longitude\n",
              "0            Is  43.285030  -6.757240\n",
              "1      Beveraso  43.278144  -6.798695\n",
              "2  San Emiliano  43.257458  -6.833681\n",
              "3     Riodecoba  43.307364  -6.792606\n",
              "4        Herías  43.315438  -6.805375"
            ]
          },
          "metadata": {},
          "execution_count": 75
        }
      ]
    },
    {
      "cell_type": "code",
      "source": [
        "# Longitude and Latitude vectors\n",
        "Longitude = data.Longitude\n",
        "Latitude = data.Latitude\n",
        "\n",
        "# Number of locations\n",
        "n = len(Longitude)\n",
        "\n",
        "# Creating a convenient string for OSRM service.\n",
        "lonLatString = ''\n",
        "for i in range(0, n):\n",
        "    lon = Longitude[i]\n",
        "    lat = Latitude[i]\n",
        "    lonLatString += str(lon) + ',' + str(lat) + ';'\n",
        "\n",
        "lonLatString = lonLatString[0:-1]\n",
        "\n",
        "# call the OSMR API\n",
        "osmrString = \"http://router.project-osrm.org/table/v1/driving/\" + lonLatString \n",
        "r = requests.get(osmrString)\n",
        "\n",
        "# Extracting driving time duration Matrix\n",
        "durationsMatrix = 1/60 * np.matrix(json.loads(r.content)['durations'])\n",
        "\n",
        "# Creating a matrix of geodesic distances\n",
        "distancesMatrix = np.zeros((n,n))\n",
        "\n",
        "# Calculating distances from geopy function `distance`\n",
        "for i in range(0, n):\n",
        "    t1 = (Latitude[i], Longitude[i])\n",
        "\n",
        "    for j in range(0, n):\n",
        "        t2 = (Latitude[j], Longitude[j])\n",
        "\n",
        "        if i != j:\n",
        "            distancesMatrix[i, j] = distance.distance(t1, t2).km\n",
        "            distancesMatrix[j, i] = distancesMatrix[i, j]"
      ],
      "metadata": {
        "id": "dPa-8Qm05bMu"
      },
      "execution_count": 94,
      "outputs": []
    },
    {
      "cell_type": "code",
      "source": [
        "print(durationsMatrix)\n",
        "print(distancesMatrix)"
      ],
      "metadata": {
        "colab": {
          "base_uri": "https://localhost:8080/"
        },
        "id": "QxumM8eJ6_Fg",
        "outputId": "68ed2375-c0e0-4440-dd37-8b4af7d94d51"
      },
      "execution_count": 99,
      "outputs": [
        {
          "output_type": "stream",
          "name": "stdout",
          "text": [
            "[[  0.          33.91666667  51.67833333  69.40666667  73.73166667]\n",
            " [ 33.86166667   0.          85.10833333 102.83666667 107.16166667]\n",
            " [ 51.83833333  85.32166667   0.          23.36        22.05333333]\n",
            " [ 69.48833333 102.97166667  23.365        0.          19.81333333]\n",
            " [ 73.90666667 107.39        22.06833333  19.84         0.        ]]\n",
            "[[0.         3.45063376 6.92042444 3.79376084 5.16414477]\n",
            " [3.45063376 0.         3.65369544 3.28364399 4.17864396]\n",
            " [6.92042444 3.65369544 0.         6.46960515 6.83891262]\n",
            " [3.79376084 3.28364399 6.46960515 0.         1.3703845 ]\n",
            " [5.16414477 4.17864396 6.83891262 1.3703845  0.        ]]\n"
          ]
        }
      ]
    },
    {
      "cell_type": "code",
      "source": [
        ""
      ],
      "metadata": {
        "id": "Q1p7n_x6Sj2q"
      },
      "execution_count": null,
      "outputs": []
    }
  ]
}